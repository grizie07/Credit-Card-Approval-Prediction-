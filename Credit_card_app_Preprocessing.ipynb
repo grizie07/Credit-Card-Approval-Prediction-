{
  "cells": [
    {
      "cell_type": "code",
      "execution_count": null,
      "id": "5983ac03",
      "metadata": {
        "id": "5983ac03"
      },
      "outputs": [],
      "source": [
        "# Import necessary libraries\n",
        "import pandas as pd  # Data manipulation using DataFrames\n",
        "import numpy as np   # Numerical operations\n",
        "import seaborn as sns  # Data visualization\n",
        "import matplotlib.pyplot as plt  # Plotting library\n",
        "from datetime import datetime, timedelta  # Date and time manipulation\n",
        "from sklearn.preprocessing import LabelEncoder  # Encoding categorical variables\n",
        "from scipy.stats import pearsonr  # For Pearson's correlation coefficient\n",
        "from sklearn.ensemble import RandomForestClassifier  # Random Forest classifier\n",
        "from sklearn.feature_selection import RFE  # Recursive Feature Elimination\n",
        "from sklearn.model_selection import train_test_split  # Splitting data into train and test sets\n",
        "from statsmodels.stats.proportion import proportions_ztest # Z-test\n",
        "# Suppress all warnings\n",
        "import warnings\n",
        "warnings.filterwarnings(\"ignore\")"
      ]
    },
    {
      "cell_type": "markdown",
      "id": "b0e50ea1",
      "metadata": {
        "id": "b0e50ea1"
      },
      "source": [
        "# 1. Data Cleaning and Preprocessing"
      ]
    },
    {
      "cell_type": "code",
      "execution_count": null,
      "id": "aaee9988",
      "metadata": {
        "id": "aaee9988"
      },
      "outputs": [],
      "source": [
        "# Loading Credit Card data and labels from CSV files\n",
        "Credit_card_data = pd.read_csv(r'/content/Credit_card.csv')\n",
        "Credit_card_label_data = pd.read_csv(r'/content/Credit_card_label.csv')"
      ]
    },
    {
      "cell_type": "code",
      "execution_count": null,
      "id": "d161989e",
      "metadata": {
        "colab": {
          "base_uri": "https://localhost:8080/"
        },
        "id": "d161989e",
        "outputId": "5c80de5c-a329-4148-d8d7-326391672139"
      },
      "outputs": [
        {
          "output_type": "stream",
          "name": "stdout",
          "text": [
            "(1548, 18)\n",
            "(1548, 2)\n"
          ]
        }
      ],
      "source": [
        "# Checking the shape before merging it\n",
        "print(Credit_card_data.shape)\n",
        "print(Credit_card_label_data.shape)"
      ]
    },
    {
      "cell_type": "code",
      "execution_count": null,
      "id": "ffe6443b",
      "metadata": {
        "id": "ffe6443b"
      },
      "outputs": [],
      "source": [
        "# Merging the Credit Card data with the labels using an inner join to only keep rows with matching 'Ind_ID'\n",
        "Credit_data = pd.merge(Credit_card_data, Credit_card_label_data, on='Ind_ID', how='inner')"
      ]
    },
    {
      "cell_type": "code",
      "execution_count": null,
      "id": "3af7dc94",
      "metadata": {
        "colab": {
          "base_uri": "https://localhost:8080/"
        },
        "id": "3af7dc94",
        "outputId": "969cb82f-6b45-4653-dbea-b77a62b4860e"
      },
      "outputs": [
        {
          "output_type": "stream",
          "name": "stdout",
          "text": [
            "(1548, 19)\n"
          ]
        }
      ],
      "source": [
        "# Dis playing the shape of the merged Credit Data DataFrame\n",
        "print(Credit_data.shape)"
      ]
    },
    {
      "cell_type": "code",
      "execution_count": null,
      "id": "83b45694",
      "metadata": {
        "colab": {
          "base_uri": "https://localhost:8080/",
          "height": 320
        },
        "id": "83b45694",
        "outputId": "94dafb07-22b5-4cd1-a068-70cb71236d0b"
      },
      "outputs": [
        {
          "output_type": "execute_result",
          "data": {
            "text/plain": [
              "             Ind_ID     CHILDREN  Annual_income  Birthday_count  \\\n",
              "count  1.548000e+03  1548.000000   1.525000e+03     1526.000000   \n",
              "mean   5.078920e+06     0.412791   1.913993e+05   -16040.342071   \n",
              "std    4.171759e+04     0.776691   1.132530e+05     4229.503202   \n",
              "min    5.008827e+06     0.000000   3.375000e+04   -24946.000000   \n",
              "25%    5.045070e+06     0.000000   1.215000e+05   -19553.000000   \n",
              "50%    5.078842e+06     0.000000   1.665000e+05   -15661.500000   \n",
              "75%    5.115673e+06     1.000000   2.250000e+05   -12417.000000   \n",
              "max    5.150412e+06    14.000000   1.575000e+06    -7705.000000   \n",
              "\n",
              "       Employed_days  Mobile_phone   Work_Phone        Phone     EMAIL_ID  \\\n",
              "count    1548.000000        1548.0  1548.000000  1548.000000  1548.000000   \n",
              "mean    59364.689922           1.0     0.208010     0.309432     0.092377   \n",
              "std    137808.062701           0.0     0.406015     0.462409     0.289651   \n",
              "min    -14887.000000           1.0     0.000000     0.000000     0.000000   \n",
              "25%     -3174.500000           1.0     0.000000     0.000000     0.000000   \n",
              "50%     -1565.000000           1.0     0.000000     0.000000     0.000000   \n",
              "75%      -431.750000           1.0     0.000000     1.000000     0.000000   \n",
              "max    365243.000000           1.0     1.000000     1.000000     1.000000   \n",
              "\n",
              "       Family_Members        label  \n",
              "count     1548.000000  1548.000000  \n",
              "mean         2.161499     0.113049  \n",
              "std          0.947772     0.316755  \n",
              "min          1.000000     0.000000  \n",
              "25%          2.000000     0.000000  \n",
              "50%          2.000000     0.000000  \n",
              "75%          3.000000     0.000000  \n",
              "max         15.000000     1.000000  "
            ],
            "text/html": [
              "\n",
              "  <div id=\"df-1230623e-a806-466a-b37b-8cc63620bb7f\" class=\"colab-df-container\">\n",
              "    <div>\n",
              "<style scoped>\n",
              "    .dataframe tbody tr th:only-of-type {\n",
              "        vertical-align: middle;\n",
              "    }\n",
              "\n",
              "    .dataframe tbody tr th {\n",
              "        vertical-align: top;\n",
              "    }\n",
              "\n",
              "    .dataframe thead th {\n",
              "        text-align: right;\n",
              "    }\n",
              "</style>\n",
              "<table border=\"1\" class=\"dataframe\">\n",
              "  <thead>\n",
              "    <tr style=\"text-align: right;\">\n",
              "      <th></th>\n",
              "      <th>Ind_ID</th>\n",
              "      <th>CHILDREN</th>\n",
              "      <th>Annual_income</th>\n",
              "      <th>Birthday_count</th>\n",
              "      <th>Employed_days</th>\n",
              "      <th>Mobile_phone</th>\n",
              "      <th>Work_Phone</th>\n",
              "      <th>Phone</th>\n",
              "      <th>EMAIL_ID</th>\n",
              "      <th>Family_Members</th>\n",
              "      <th>label</th>\n",
              "    </tr>\n",
              "  </thead>\n",
              "  <tbody>\n",
              "    <tr>\n",
              "      <th>count</th>\n",
              "      <td>1.548000e+03</td>\n",
              "      <td>1548.000000</td>\n",
              "      <td>1.525000e+03</td>\n",
              "      <td>1526.000000</td>\n",
              "      <td>1548.000000</td>\n",
              "      <td>1548.0</td>\n",
              "      <td>1548.000000</td>\n",
              "      <td>1548.000000</td>\n",
              "      <td>1548.000000</td>\n",
              "      <td>1548.000000</td>\n",
              "      <td>1548.000000</td>\n",
              "    </tr>\n",
              "    <tr>\n",
              "      <th>mean</th>\n",
              "      <td>5.078920e+06</td>\n",
              "      <td>0.412791</td>\n",
              "      <td>1.913993e+05</td>\n",
              "      <td>-16040.342071</td>\n",
              "      <td>59364.689922</td>\n",
              "      <td>1.0</td>\n",
              "      <td>0.208010</td>\n",
              "      <td>0.309432</td>\n",
              "      <td>0.092377</td>\n",
              "      <td>2.161499</td>\n",
              "      <td>0.113049</td>\n",
              "    </tr>\n",
              "    <tr>\n",
              "      <th>std</th>\n",
              "      <td>4.171759e+04</td>\n",
              "      <td>0.776691</td>\n",
              "      <td>1.132530e+05</td>\n",
              "      <td>4229.503202</td>\n",
              "      <td>137808.062701</td>\n",
              "      <td>0.0</td>\n",
              "      <td>0.406015</td>\n",
              "      <td>0.462409</td>\n",
              "      <td>0.289651</td>\n",
              "      <td>0.947772</td>\n",
              "      <td>0.316755</td>\n",
              "    </tr>\n",
              "    <tr>\n",
              "      <th>min</th>\n",
              "      <td>5.008827e+06</td>\n",
              "      <td>0.000000</td>\n",
              "      <td>3.375000e+04</td>\n",
              "      <td>-24946.000000</td>\n",
              "      <td>-14887.000000</td>\n",
              "      <td>1.0</td>\n",
              "      <td>0.000000</td>\n",
              "      <td>0.000000</td>\n",
              "      <td>0.000000</td>\n",
              "      <td>1.000000</td>\n",
              "      <td>0.000000</td>\n",
              "    </tr>\n",
              "    <tr>\n",
              "      <th>25%</th>\n",
              "      <td>5.045070e+06</td>\n",
              "      <td>0.000000</td>\n",
              "      <td>1.215000e+05</td>\n",
              "      <td>-19553.000000</td>\n",
              "      <td>-3174.500000</td>\n",
              "      <td>1.0</td>\n",
              "      <td>0.000000</td>\n",
              "      <td>0.000000</td>\n",
              "      <td>0.000000</td>\n",
              "      <td>2.000000</td>\n",
              "      <td>0.000000</td>\n",
              "    </tr>\n",
              "    <tr>\n",
              "      <th>50%</th>\n",
              "      <td>5.078842e+06</td>\n",
              "      <td>0.000000</td>\n",
              "      <td>1.665000e+05</td>\n",
              "      <td>-15661.500000</td>\n",
              "      <td>-1565.000000</td>\n",
              "      <td>1.0</td>\n",
              "      <td>0.000000</td>\n",
              "      <td>0.000000</td>\n",
              "      <td>0.000000</td>\n",
              "      <td>2.000000</td>\n",
              "      <td>0.000000</td>\n",
              "    </tr>\n",
              "    <tr>\n",
              "      <th>75%</th>\n",
              "      <td>5.115673e+06</td>\n",
              "      <td>1.000000</td>\n",
              "      <td>2.250000e+05</td>\n",
              "      <td>-12417.000000</td>\n",
              "      <td>-431.750000</td>\n",
              "      <td>1.0</td>\n",
              "      <td>0.000000</td>\n",
              "      <td>1.000000</td>\n",
              "      <td>0.000000</td>\n",
              "      <td>3.000000</td>\n",
              "      <td>0.000000</td>\n",
              "    </tr>\n",
              "    <tr>\n",
              "      <th>max</th>\n",
              "      <td>5.150412e+06</td>\n",
              "      <td>14.000000</td>\n",
              "      <td>1.575000e+06</td>\n",
              "      <td>-7705.000000</td>\n",
              "      <td>365243.000000</td>\n",
              "      <td>1.0</td>\n",
              "      <td>1.000000</td>\n",
              "      <td>1.000000</td>\n",
              "      <td>1.000000</td>\n",
              "      <td>15.000000</td>\n",
              "      <td>1.000000</td>\n",
              "    </tr>\n",
              "  </tbody>\n",
              "</table>\n",
              "</div>\n",
              "    <div class=\"colab-df-buttons\">\n",
              "\n",
              "  <div class=\"colab-df-container\">\n",
              "    <button class=\"colab-df-convert\" onclick=\"convertToInteractive('df-1230623e-a806-466a-b37b-8cc63620bb7f')\"\n",
              "            title=\"Convert this dataframe to an interactive table.\"\n",
              "            style=\"display:none;\">\n",
              "\n",
              "  <svg xmlns=\"http://www.w3.org/2000/svg\" height=\"24px\" viewBox=\"0 -960 960 960\">\n",
              "    <path d=\"M120-120v-720h720v720H120Zm60-500h600v-160H180v160Zm220 220h160v-160H400v160Zm0 220h160v-160H400v160ZM180-400h160v-160H180v160Zm440 0h160v-160H620v160ZM180-180h160v-160H180v160Zm440 0h160v-160H620v160Z\"/>\n",
              "  </svg>\n",
              "    </button>\n",
              "\n",
              "  <style>\n",
              "    .colab-df-container {\n",
              "      display:flex;\n",
              "      gap: 12px;\n",
              "    }\n",
              "\n",
              "    .colab-df-convert {\n",
              "      background-color: #E8F0FE;\n",
              "      border: none;\n",
              "      border-radius: 50%;\n",
              "      cursor: pointer;\n",
              "      display: none;\n",
              "      fill: #1967D2;\n",
              "      height: 32px;\n",
              "      padding: 0 0 0 0;\n",
              "      width: 32px;\n",
              "    }\n",
              "\n",
              "    .colab-df-convert:hover {\n",
              "      background-color: #E2EBFA;\n",
              "      box-shadow: 0px 1px 2px rgba(60, 64, 67, 0.3), 0px 1px 3px 1px rgba(60, 64, 67, 0.15);\n",
              "      fill: #174EA6;\n",
              "    }\n",
              "\n",
              "    .colab-df-buttons div {\n",
              "      margin-bottom: 4px;\n",
              "    }\n",
              "\n",
              "    [theme=dark] .colab-df-convert {\n",
              "      background-color: #3B4455;\n",
              "      fill: #D2E3FC;\n",
              "    }\n",
              "\n",
              "    [theme=dark] .colab-df-convert:hover {\n",
              "      background-color: #434B5C;\n",
              "      box-shadow: 0px 1px 3px 1px rgba(0, 0, 0, 0.15);\n",
              "      filter: drop-shadow(0px 1px 2px rgba(0, 0, 0, 0.3));\n",
              "      fill: #FFFFFF;\n",
              "    }\n",
              "  </style>\n",
              "\n",
              "    <script>\n",
              "      const buttonEl =\n",
              "        document.querySelector('#df-1230623e-a806-466a-b37b-8cc63620bb7f button.colab-df-convert');\n",
              "      buttonEl.style.display =\n",
              "        google.colab.kernel.accessAllowed ? 'block' : 'none';\n",
              "\n",
              "      async function convertToInteractive(key) {\n",
              "        const element = document.querySelector('#df-1230623e-a806-466a-b37b-8cc63620bb7f');\n",
              "        const dataTable =\n",
              "          await google.colab.kernel.invokeFunction('convertToInteractive',\n",
              "                                                    [key], {});\n",
              "        if (!dataTable) return;\n",
              "\n",
              "        const docLinkHtml = 'Like what you see? Visit the ' +\n",
              "          '<a target=\"_blank\" href=https://colab.research.google.com/notebooks/data_table.ipynb>data table notebook</a>'\n",
              "          + ' to learn more about interactive tables.';\n",
              "        element.innerHTML = '';\n",
              "        dataTable['output_type'] = 'display_data';\n",
              "        await google.colab.output.renderOutput(dataTable, element);\n",
              "        const docLink = document.createElement('div');\n",
              "        docLink.innerHTML = docLinkHtml;\n",
              "        element.appendChild(docLink);\n",
              "      }\n",
              "    </script>\n",
              "  </div>\n",
              "\n",
              "\n",
              "<div id=\"df-495457b7-22e6-4aa0-bbb3-cfa9107c38fb\">\n",
              "  <button class=\"colab-df-quickchart\" onclick=\"quickchart('df-495457b7-22e6-4aa0-bbb3-cfa9107c38fb')\"\n",
              "            title=\"Suggest charts\"\n",
              "            style=\"display:none;\">\n",
              "\n",
              "<svg xmlns=\"http://www.w3.org/2000/svg\" height=\"24px\"viewBox=\"0 0 24 24\"\n",
              "     width=\"24px\">\n",
              "    <g>\n",
              "        <path d=\"M19 3H5c-1.1 0-2 .9-2 2v14c0 1.1.9 2 2 2h14c1.1 0 2-.9 2-2V5c0-1.1-.9-2-2-2zM9 17H7v-7h2v7zm4 0h-2V7h2v10zm4 0h-2v-4h2v4z\"/>\n",
              "    </g>\n",
              "</svg>\n",
              "  </button>\n",
              "\n",
              "<style>\n",
              "  .colab-df-quickchart {\n",
              "      --bg-color: #E8F0FE;\n",
              "      --fill-color: #1967D2;\n",
              "      --hover-bg-color: #E2EBFA;\n",
              "      --hover-fill-color: #174EA6;\n",
              "      --disabled-fill-color: #AAA;\n",
              "      --disabled-bg-color: #DDD;\n",
              "  }\n",
              "\n",
              "  [theme=dark] .colab-df-quickchart {\n",
              "      --bg-color: #3B4455;\n",
              "      --fill-color: #D2E3FC;\n",
              "      --hover-bg-color: #434B5C;\n",
              "      --hover-fill-color: #FFFFFF;\n",
              "      --disabled-bg-color: #3B4455;\n",
              "      --disabled-fill-color: #666;\n",
              "  }\n",
              "\n",
              "  .colab-df-quickchart {\n",
              "    background-color: var(--bg-color);\n",
              "    border: none;\n",
              "    border-radius: 50%;\n",
              "    cursor: pointer;\n",
              "    display: none;\n",
              "    fill: var(--fill-color);\n",
              "    height: 32px;\n",
              "    padding: 0;\n",
              "    width: 32px;\n",
              "  }\n",
              "\n",
              "  .colab-df-quickchart:hover {\n",
              "    background-color: var(--hover-bg-color);\n",
              "    box-shadow: 0 1px 2px rgba(60, 64, 67, 0.3), 0 1px 3px 1px rgba(60, 64, 67, 0.15);\n",
              "    fill: var(--button-hover-fill-color);\n",
              "  }\n",
              "\n",
              "  .colab-df-quickchart-complete:disabled,\n",
              "  .colab-df-quickchart-complete:disabled:hover {\n",
              "    background-color: var(--disabled-bg-color);\n",
              "    fill: var(--disabled-fill-color);\n",
              "    box-shadow: none;\n",
              "  }\n",
              "\n",
              "  .colab-df-spinner {\n",
              "    border: 2px solid var(--fill-color);\n",
              "    border-color: transparent;\n",
              "    border-bottom-color: var(--fill-color);\n",
              "    animation:\n",
              "      spin 1s steps(1) infinite;\n",
              "  }\n",
              "\n",
              "  @keyframes spin {\n",
              "    0% {\n",
              "      border-color: transparent;\n",
              "      border-bottom-color: var(--fill-color);\n",
              "      border-left-color: var(--fill-color);\n",
              "    }\n",
              "    20% {\n",
              "      border-color: transparent;\n",
              "      border-left-color: var(--fill-color);\n",
              "      border-top-color: var(--fill-color);\n",
              "    }\n",
              "    30% {\n",
              "      border-color: transparent;\n",
              "      border-left-color: var(--fill-color);\n",
              "      border-top-color: var(--fill-color);\n",
              "      border-right-color: var(--fill-color);\n",
              "    }\n",
              "    40% {\n",
              "      border-color: transparent;\n",
              "      border-right-color: var(--fill-color);\n",
              "      border-top-color: var(--fill-color);\n",
              "    }\n",
              "    60% {\n",
              "      border-color: transparent;\n",
              "      border-right-color: var(--fill-color);\n",
              "    }\n",
              "    80% {\n",
              "      border-color: transparent;\n",
              "      border-right-color: var(--fill-color);\n",
              "      border-bottom-color: var(--fill-color);\n",
              "    }\n",
              "    90% {\n",
              "      border-color: transparent;\n",
              "      border-bottom-color: var(--fill-color);\n",
              "    }\n",
              "  }\n",
              "</style>\n",
              "\n",
              "  <script>\n",
              "    async function quickchart(key) {\n",
              "      const quickchartButtonEl =\n",
              "        document.querySelector('#' + key + ' button');\n",
              "      quickchartButtonEl.disabled = true;  // To prevent multiple clicks.\n",
              "      quickchartButtonEl.classList.add('colab-df-spinner');\n",
              "      try {\n",
              "        const charts = await google.colab.kernel.invokeFunction(\n",
              "            'suggestCharts', [key], {});\n",
              "      } catch (error) {\n",
              "        console.error('Error during call to suggestCharts:', error);\n",
              "      }\n",
              "      quickchartButtonEl.classList.remove('colab-df-spinner');\n",
              "      quickchartButtonEl.classList.add('colab-df-quickchart-complete');\n",
              "    }\n",
              "    (() => {\n",
              "      let quickchartButtonEl =\n",
              "        document.querySelector('#df-495457b7-22e6-4aa0-bbb3-cfa9107c38fb button');\n",
              "      quickchartButtonEl.style.display =\n",
              "        google.colab.kernel.accessAllowed ? 'block' : 'none';\n",
              "    })();\n",
              "  </script>\n",
              "</div>\n",
              "\n",
              "    </div>\n",
              "  </div>\n"
            ],
            "application/vnd.google.colaboratory.intrinsic+json": {
              "type": "dataframe",
              "summary": "{\n  \"name\": \"Credit_data\",\n  \"rows\": 8,\n  \"fields\": [\n    {\n      \"column\": \"Ind_ID\",\n      \"properties\": {\n        \"dtype\": \"number\",\n        \"std\": 2341801.386661129,\n        \"min\": 1548.0,\n        \"max\": 5150412.0,\n        \"num_unique_values\": 8,\n        \"samples\": [\n          5078920.351421189,\n          5078841.5,\n          1548.0\n        ],\n        \"semantic_type\": \"\",\n        \"description\": \"\"\n      }\n    },\n    {\n      \"column\": \"CHILDREN\",\n      \"properties\": {\n        \"dtype\": \"number\",\n        \"std\": 546.5039121155169,\n        \"min\": 0.0,\n        \"max\": 1548.0,\n        \"num_unique_values\": 6,\n        \"samples\": [\n          1548.0,\n          0.4127906976744186,\n          14.0\n        ],\n        \"semantic_type\": \"\",\n        \"description\": \"\"\n      }\n    },\n    {\n      \"column\": \"Annual_income\",\n      \"properties\": {\n        \"dtype\": \"number\",\n        \"std\": 519268.9841670877,\n        \"min\": 1525.0,\n        \"max\": 1575000.0,\n        \"num_unique_values\": 8,\n        \"samples\": [\n          191399.3262295082,\n          166500.0,\n          1525.0\n        ],\n        \"semantic_type\": \"\",\n        \"description\": \"\"\n      }\n    },\n    {\n      \"column\": \"Birthday_count\",\n      \"properties\": {\n        \"dtype\": \"number\",\n        \"std\": 10111.230034067772,\n        \"min\": -24946.0,\n        \"max\": 4229.503202035152,\n        \"num_unique_values\": 8,\n        \"samples\": [\n          -16040.342070773264,\n          -15661.5,\n          1526.0\n        ],\n        \"semantic_type\": \"\",\n        \"description\": \"\"\n      }\n    },\n    {\n      \"column\": \"Employed_days\",\n      \"properties\": {\n        \"dtype\": \"number\",\n        \"std\": 130480.02599594757,\n        \"min\": -14887.0,\n        \"max\": 365243.0,\n        \"num_unique_values\": 8,\n        \"samples\": [\n          59364.68992248062,\n          -1565.0,\n          1548.0\n        ],\n        \"semantic_type\": \"\",\n        \"description\": \"\"\n      }\n    },\n    {\n      \"column\": \"Mobile_phone\",\n      \"properties\": {\n        \"dtype\": \"number\",\n        \"std\": 546.9977148032705,\n        \"min\": 0.0,\n        \"max\": 1548.0,\n        \"num_unique_values\": 3,\n        \"samples\": [\n          1548.0,\n          1.0,\n          0.0\n        ],\n        \"semantic_type\": \"\",\n        \"description\": \"\"\n      }\n    },\n    {\n      \"column\": \"Work_Phone\",\n      \"properties\": {\n        \"dtype\": \"number\",\n        \"std\": 547.2192371450784,\n        \"min\": 0.0,\n        \"max\": 1548.0,\n        \"num_unique_values\": 5,\n        \"samples\": [\n          0.20801033591731266,\n          1.0,\n          0.40601542749706304\n        ],\n        \"semantic_type\": \"\",\n        \"description\": \"\"\n      }\n    },\n    {\n      \"column\": \"Phone\",\n      \"properties\": {\n        \"dtype\": \"number\",\n        \"std\": 547.1608077841018,\n        \"min\": 0.0,\n        \"max\": 1548.0,\n        \"num_unique_values\": 5,\n        \"samples\": [\n          0.3094315245478036,\n          1.0,\n          0.46240867631481436\n        ],\n        \"semantic_type\": \"\",\n        \"description\": \"\"\n      }\n    },\n    {\n      \"column\": \"EMAIL_ID\",\n      \"properties\": {\n        \"dtype\": \"number\",\n        \"std\": 547.2309526296274,\n        \"min\": 0.0,\n        \"max\": 1548.0,\n        \"num_unique_values\": 5,\n        \"samples\": [\n          0.09237726098191215,\n          1.0,\n          0.2896513425575083\n        ],\n        \"semantic_type\": \"\",\n        \"description\": \"\"\n      }\n    },\n    {\n      \"column\": \"Family_Members\",\n      \"properties\": {\n        \"dtype\": \"number\",\n        \"std\": 546.0017099631353,\n        \"min\": 0.9477716262844065,\n        \"max\": 1548.0,\n        \"num_unique_values\": 7,\n        \"samples\": [\n          1548.0,\n          2.161498708010336,\n          3.0\n        ],\n        \"semantic_type\": \"\",\n        \"description\": \"\"\n      }\n    },\n    {\n      \"column\": \"label\",\n      \"properties\": {\n        \"dtype\": \"number\",\n        \"std\": 547.2285397914375,\n        \"min\": 0.0,\n        \"max\": 1548.0,\n        \"num_unique_values\": 5,\n        \"samples\": [\n          0.11304909560723514,\n          1.0,\n          0.316755130525303\n        ],\n        \"semantic_type\": \"\",\n        \"description\": \"\"\n      }\n    }\n  ]\n}"
            }
          },
          "metadata": {},
          "execution_count": 7
        }
      ],
      "source": [
        "# Displaying statistics of the Credit_data using describe()\n",
        "Credit_data.describe()"
      ]
    },
    {
      "cell_type": "code",
      "execution_count": null,
      "id": "b5860f6b",
      "metadata": {
        "colab": {
          "base_uri": "https://localhost:8080/"
        },
        "id": "b5860f6b",
        "outputId": "303dc82d-c27f-4c1e-9e3e-8925c8eeeca7"
      },
      "outputs": [
        {
          "output_type": "stream",
          "name": "stdout",
          "text": [
            "<class 'pandas.core.frame.DataFrame'>\n",
            "RangeIndex: 1548 entries, 0 to 1547\n",
            "Data columns (total 19 columns):\n",
            " #   Column           Non-Null Count  Dtype  \n",
            "---  ------           --------------  -----  \n",
            " 0   Ind_ID           1548 non-null   int64  \n",
            " 1   GENDER           1541 non-null   object \n",
            " 2   Car_Owner        1548 non-null   object \n",
            " 3   Propert_Owner    1548 non-null   object \n",
            " 4   CHILDREN         1548 non-null   int64  \n",
            " 5   Annual_income    1525 non-null   float64\n",
            " 6   Type_Income      1548 non-null   object \n",
            " 7   EDUCATION        1548 non-null   object \n",
            " 8   Marital_status   1548 non-null   object \n",
            " 9   Housing_type     1548 non-null   object \n",
            " 10  Birthday_count   1526 non-null   float64\n",
            " 11  Employed_days    1548 non-null   int64  \n",
            " 12  Mobile_phone     1548 non-null   int64  \n",
            " 13  Work_Phone       1548 non-null   int64  \n",
            " 14  Phone            1548 non-null   int64  \n",
            " 15  EMAIL_ID         1548 non-null   int64  \n",
            " 16  Type_Occupation  1060 non-null   object \n",
            " 17  Family_Members   1548 non-null   int64  \n",
            " 18  label            1548 non-null   int64  \n",
            "dtypes: float64(2), int64(9), object(8)\n",
            "memory usage: 229.9+ KB\n"
          ]
        }
      ],
      "source": [
        "# Checking column's data type with the help of info()\n",
        "Credit_data.info()"
      ]
    },
    {
      "cell_type": "markdown",
      "id": "c2adf08b",
      "metadata": {
        "id": "c2adf08b"
      },
      "source": [
        "# 1.1 Renaming Columns"
      ]
    },
    {
      "cell_type": "code",
      "execution_count": null,
      "id": "3b5a8e41",
      "metadata": {
        "id": "3b5a8e41"
      },
      "outputs": [],
      "source": [
        "# Renaming the 'GENDER' column to 'Gender' in the Credit Data DataFrame\n",
        "Credit_data.rename(columns={'GENDER': 'Gender'}, inplace=True)\n",
        "\n",
        "# Renaming the 'CHILDREN' column to 'Children' in the Credit Data DataFrame\n",
        "Credit_data.rename(columns={'CHILDREN': 'Children'}, inplace=True)\n",
        "\n",
        "# Renaming the 'EDUCATION' column to 'Education' in the Credit Data DataFrame\n",
        "Credit_data.rename(columns={'EDUCATION': 'Education'}, inplace=True)\n",
        "\n",
        "# Renaming the 'EMAIL_ID' column to 'Email_ID' in the Credit Data DataFrame\n",
        "Credit_data.rename(columns={'EMAIL_ID': 'Email_ID'}, inplace=True)\n",
        "\n",
        "# Renaming the 'label' column to 'Label' in the Credit Data DataFrame\n",
        "Credit_data.rename(columns={'label': 'Label'}, inplace=True)"
      ]
    },
    {
      "cell_type": "code",
      "execution_count": null,
      "id": "8327309b",
      "metadata": {
        "id": "8327309b"
      },
      "outputs": [],
      "source": [
        "# Dropping irrelevant columns\n",
        "columns_to_drop = ['Mobile_phone', 'Work_Phone', 'Phone', 'Email_ID']\n",
        "\n",
        "# Dropping the specified columns from the Credit Data DataFrame\n",
        "Credit_data = Credit_data.drop(columns=columns_to_drop, axis=1)"
      ]
    },
    {
      "cell_type": "code",
      "execution_count": null,
      "id": "0e266eb5",
      "metadata": {
        "id": "0e266eb5"
      },
      "outputs": [],
      "source": [
        "# Map 1 to 'Approved' and 0 to 'Rejected'\n",
        "Credit_data['Label'] = Credit_data['Label'].map({0: 'Approved', 1: 'Rejected'})"
      ]
    },
    {
      "cell_type": "markdown",
      "id": "4960d1e2",
      "metadata": {
        "id": "4960d1e2"
      },
      "source": [
        "# 1.2 Handling Missing Values"
      ]
    },
    {
      "cell_type": "code",
      "execution_count": null,
      "id": "48145dc9",
      "metadata": {
        "colab": {
          "base_uri": "https://localhost:8080/",
          "height": 554
        },
        "id": "48145dc9",
        "outputId": "fb28ef80-0bd0-449b-b1a9-c90d8e9109bb"
      },
      "outputs": [
        {
          "output_type": "execute_result",
          "data": {
            "text/plain": [
              "Ind_ID              0.00\n",
              "Gender              0.45\n",
              "Car_Owner           0.00\n",
              "Propert_Owner       0.00\n",
              "Children            0.00\n",
              "Annual_income       1.49\n",
              "Type_Income         0.00\n",
              "Education           0.00\n",
              "Marital_status      0.00\n",
              "Housing_type        0.00\n",
              "Birthday_count      1.42\n",
              "Employed_days       0.00\n",
              "Type_Occupation    31.52\n",
              "Family_Members      0.00\n",
              "Label               0.00\n",
              "dtype: float64"
            ],
            "text/html": [
              "<div>\n",
              "<style scoped>\n",
              "    .dataframe tbody tr th:only-of-type {\n",
              "        vertical-align: middle;\n",
              "    }\n",
              "\n",
              "    .dataframe tbody tr th {\n",
              "        vertical-align: top;\n",
              "    }\n",
              "\n",
              "    .dataframe thead th {\n",
              "        text-align: right;\n",
              "    }\n",
              "</style>\n",
              "<table border=\"1\" class=\"dataframe\">\n",
              "  <thead>\n",
              "    <tr style=\"text-align: right;\">\n",
              "      <th></th>\n",
              "      <th>0</th>\n",
              "    </tr>\n",
              "  </thead>\n",
              "  <tbody>\n",
              "    <tr>\n",
              "      <th>Ind_ID</th>\n",
              "      <td>0.00</td>\n",
              "    </tr>\n",
              "    <tr>\n",
              "      <th>Gender</th>\n",
              "      <td>0.45</td>\n",
              "    </tr>\n",
              "    <tr>\n",
              "      <th>Car_Owner</th>\n",
              "      <td>0.00</td>\n",
              "    </tr>\n",
              "    <tr>\n",
              "      <th>Propert_Owner</th>\n",
              "      <td>0.00</td>\n",
              "    </tr>\n",
              "    <tr>\n",
              "      <th>Children</th>\n",
              "      <td>0.00</td>\n",
              "    </tr>\n",
              "    <tr>\n",
              "      <th>Annual_income</th>\n",
              "      <td>1.49</td>\n",
              "    </tr>\n",
              "    <tr>\n",
              "      <th>Type_Income</th>\n",
              "      <td>0.00</td>\n",
              "    </tr>\n",
              "    <tr>\n",
              "      <th>Education</th>\n",
              "      <td>0.00</td>\n",
              "    </tr>\n",
              "    <tr>\n",
              "      <th>Marital_status</th>\n",
              "      <td>0.00</td>\n",
              "    </tr>\n",
              "    <tr>\n",
              "      <th>Housing_type</th>\n",
              "      <td>0.00</td>\n",
              "    </tr>\n",
              "    <tr>\n",
              "      <th>Birthday_count</th>\n",
              "      <td>1.42</td>\n",
              "    </tr>\n",
              "    <tr>\n",
              "      <th>Employed_days</th>\n",
              "      <td>0.00</td>\n",
              "    </tr>\n",
              "    <tr>\n",
              "      <th>Type_Occupation</th>\n",
              "      <td>31.52</td>\n",
              "    </tr>\n",
              "    <tr>\n",
              "      <th>Family_Members</th>\n",
              "      <td>0.00</td>\n",
              "    </tr>\n",
              "    <tr>\n",
              "      <th>Label</th>\n",
              "      <td>0.00</td>\n",
              "    </tr>\n",
              "  </tbody>\n",
              "</table>\n",
              "</div><br><label><b>dtype:</b> float64</label>"
            ]
          },
          "metadata": {},
          "execution_count": 12
        }
      ],
      "source": [
        "# Calculating the percentage of missing values for each column\n",
        "missing_percentage = (Credit_data.isnull().sum() / len(Credit_data)) * 100\n",
        "\n",
        "# Rounding the missing percentage to 2 decimal places for better readability\n",
        "missing_percentage.round(2)"
      ]
    },
    {
      "cell_type": "code",
      "execution_count": null,
      "id": "9f71ae60",
      "metadata": {
        "id": "9f71ae60"
      },
      "outputs": [],
      "source": [
        "#Dropping the 'Type_Occupation' column due to a significant number of null values (31.52%) and the column not seeming relevant for credit card prediction.\n",
        "Credit_data.drop('Type_Occupation', axis=1, inplace=True)"
      ]
    },
    {
      "cell_type": "code",
      "execution_count": null,
      "id": "53e75c1e",
      "metadata": {
        "id": "53e75c1e"
      },
      "outputs": [],
      "source": [
        "#Creating a cleaned version of the Credit Data DataFrame by dropping rows with 2% missing values ('Annual_income' and 'Birthday_count')\n",
        "Credit_data_cleaned = Credit_data.dropna()"
      ]
    },
    {
      "cell_type": "markdown",
      "id": "d843c9a5",
      "metadata": {
        "id": "d843c9a5"
      },
      "source": [
        "# 2. Visualization"
      ]
    },
    {
      "cell_type": "code",
      "execution_count": null,
      "id": "88c1451a",
      "metadata": {
        "colab": {
          "base_uri": "https://localhost:8080/",
          "height": 839
        },
        "id": "88c1451a",
        "outputId": "14e8da6c-f917-4bf7-b805-1d2b73ce81f3"
      },
      "outputs": [
        {
          "output_type": "display_data",
          "data": {
            "text/plain": [
              "<Figure size 1500x1000 with 4 Axes>"
            ],
            "image/png": "[encoded data removed]"
          },
          "metadata": {}
        }
      ],
      "source": [
        "categorical_columns = ['Gender', 'Car_Owner', 'Propert_Owner', 'Type_Income']\n",
        "\n",
        "# Creating subplots with 2 rows, 2 columns\n",
        "fig, axes = plt.subplots(nrows=2, ncols=2, figsize=(15, 5 * 2))\n",
        "\n",
        "axes = axes.flatten()# Flatten the 2x2 array of subplots into a 1D array\n",
        "\n",
        "# Plotting Count plots for 'Label' with each categorical column\n",
        "for i, column in enumerate(categorical_columns):\n",
        "    sns.countplot(x=column, hue='Label', data=Credit_data_cleaned, palette=\"rocket\", edgecolor='black', ax=axes[i])\n",
        "\n",
        "    # Adding labels\n",
        "    axes[i].set_title(f'Credit Card Approval by {column}')\n",
        "    axes[i].set_xlabel(column)\n",
        "    axes[i].set_ylabel('Count')\n",
        "\n",
        "    # Adding legend\n",
        "    axes[i].legend(title='Label', loc='best')\n",
        "\n",
        "# Adjusting layout\n",
        "plt.tight_layout()\n",
        "plt.show()"
      ]
    },
    {
      "cell_type": "raw",
      "id": "37f62ddd",
      "metadata": {
        "id": "37f62ddd"
      },
      "source": [
        "Gender, Car Ownership, Property Ownership, and Income Type do not significantly influence target variable (Label)"
      ]
    },
    {
      "cell_type": "code",
      "execution_count": null,
      "id": "18ac7adc",
      "metadata": {
        "colab": {
          "base_uri": "https://localhost:8080/",
          "height": 424
        },
        "id": "18ac7adc",
        "outputId": "4327b4fb-8f61-488c-d946-bdab320082b7"
      },
      "outputs": [
        {
          "output_type": "display_data",
          "data": {
            "text/plain": [
              "<Figure size 1500x500 with 1 Axes>"
            ],
            "image/png": "[encoded data removed]"
          },
          "metadata": {}
        }
      ],
      "source": [
        "# Distribution of Marital status with respect to Label\n",
        "plt.figure(figsize=(15, 5))# Plotting a figure with a specified size\n",
        "\n",
        "# Plotting Count plot\n",
        "sns.countplot(x='Marital_status', hue='Label', data=Credit_data_cleaned, palette='rocket',edgecolor='black')\n",
        "\n",
        "# Adding Title, Labels and Adjusting layout\n",
        "plt.title('Credit Card Approval by Marital Status')\n",
        "plt.xlabel('Marital Status')\n",
        "plt.ylabel('Count')\n",
        "plt.tight_layout()\n",
        "plt.show()"
      ]
    },
    {
      "cell_type": "raw",
      "id": "27c2b017",
      "metadata": {
        "id": "27c2b017"
      },
      "source": [
        "Marital status significantly influences the target variable (Label)"
      ]
    },
    {
      "cell_type": "code",
      "execution_count": null,
      "id": "0c6008bd",
      "metadata": {
        "colab": {
          "base_uri": "https://localhost:8080/",
          "height": 424
        },
        "id": "0c6008bd",
        "outputId": "5281b573-9854-4ec8-9445-195d3e50ebcf"
      },
      "outputs": [
        {
          "output_type": "display_data",
          "data": {
            "text/plain": [
              "<Figure size 1500x500 with 1 Axes>"
            ],
            "image/png": "[encoded data removed]"
          },
          "metadata": {}
        }
      ],
      "source": [
        "# Distribution of Housing Type with respect to Label\n",
        "plt.figure(figsize=(15, 5))# Plotting a figure with a specified size\n",
        "\n",
        "# Plotting Count plot\n",
        "sns.countplot(x='Housing_type', hue='Label', data=Credit_data_cleaned, palette='rocket',edgecolor='black')\n",
        "\n",
        "# Adding Title, Labels and Adjusting layout\n",
        "plt.title('Credit Card Approval by Housing Type ')\n",
        "plt.xlabel('Housing Type')\n",
        "plt.ylabel('Count')\n",
        "plt.tight_layout()\n",
        "plt.show()"
      ]
    },
    {
      "cell_type": "raw",
      "id": "9d8a9d84",
      "metadata": {
        "id": "9d8a9d84"
      },
      "source": [
        "Housing type does not significantly influence target variable (Label)"
      ]
    },
    {
      "cell_type": "markdown",
      "id": "9fb50f69",
      "metadata": {
        "id": "9fb50f69"
      },
      "source": [
        "# 3. Outliers"
      ]
    },
    {
      "cell_type": "code",
      "execution_count": null,
      "id": "0aa9e93e",
      "metadata": {
        "colab": {
          "base_uri": "https://localhost:8080/",
          "height": 607
        },
        "id": "0aa9e93e",
        "outputId": "a90c5579-7032-4f4e-cadb-90f5098969a8"
      },
      "outputs": [
        {
          "output_type": "display_data",
          "data": {
            "text/plain": [
              "<Figure size 1200x600 with 3 Axes>"
            ],
            "image/png": "[encoded data removed]"
          },
          "metadata": {}
        }
      ],
      "source": [
        "# Defining numerical features to handle outliers\n",
        "numerical_features = ['Annual_income', 'Children', 'Family_Members']\n",
        "numerical_data = Credit_data_cleaned[numerical_features]\n",
        "\n",
        "# Plotting Box plots for each numerical column to check outliers\n",
        "fig, axes = plt.subplots(nrows=len(numerical_data.columns), figsize=(12, 2 * len(numerical_data.columns)))\n",
        "\n",
        "# Iterating through each numerical column and plot a boxplot\n",
        "for i, col in enumerate(numerical_data.columns):\n",
        "    sns.boxplot(x=numerical_data[col], ax=axes[i])\n",
        "    axes[i].set_title(f'Box Plot of {col}')\n",
        "\n",
        "# Adjusting layout\n",
        "plt.tight_layout()\n",
        "plt.show()"
      ]
    },
    {
      "cell_type": "code",
      "execution_count": null,
      "id": "75798817",
      "metadata": {
        "colab": {
          "base_uri": "https://localhost:8080/",
          "height": 607
        },
        "id": "75798817",
        "outputId": "9005bf02-c548-4d5c-817b-61090fc12947"
      },
      "outputs": [
        {
          "output_type": "display_data",
          "data": {
            "text/plain": [
              "<Figure size 1200x600 with 3 Axes>"
            ],
            "image/png": "[encoded data removed]"
          },
          "metadata": {}
        }
      ],
      "source": [
        "# Identifying and removing outliers in selected columns using the IQR method\n",
        "columns_to_remove_outliers = ['Annual_income', 'Children', 'Family_Members']\n",
        "\n",
        "def remove_outliers(data, column): # Function to remove outliers based on Interquartile Range (IQR)\n",
        "    Q1 = np.percentile(column, 25)\n",
        "    Q3 = np.percentile(column, 75)\n",
        "    IQR = Q3 - Q1\n",
        "    # Defining lower and upper bounds\n",
        "    lower_bound = Q1 - (1.5 * IQR)\n",
        "    upper_bound = Q3 + (1.5 * IQR)\n",
        "    return data[(column > lower_bound) & (column < upper_bound)] # Returning data without outliers\n",
        "\n",
        "# Looping through selected columns and removing outliers\n",
        "for col in columns_to_remove_outliers:\n",
        "    Credit_data_cleaned = remove_outliers(Credit_data_cleaned, Credit_data_cleaned[col])\n",
        "# Defining numerical features to handle outliers\n",
        "numerical_features = ['Annual_income', 'Children', 'Family_Members']\n",
        "numerical_data = Credit_data_cleaned[numerical_features]\n",
        "\n",
        "# Plotting Box plots for each numerical column to check outliers\n",
        "fig, axes = plt.subplots(nrows=len(numerical_data.columns), figsize=(12, 2 * len(numerical_data.columns)))\n",
        "\n",
        "# Iterating through each numerical column and plot a boxplot\n",
        "for i, col in enumerate(numerical_data.columns):\n",
        "    sns.boxplot(x=numerical_data[col], ax=axes[i])\n",
        "    axes[i].set_title(f'Box Plot of {col}')\n",
        "\n",
        "# Adjusting layout\n",
        "plt.tight_layout()\n",
        "plt.show()"
      ]
    },
    {
      "cell_type": "markdown",
      "id": "3cf1a6f9",
      "metadata": {
        "id": "3cf1a6f9"
      },
      "source": [
        "# 4. Adding new columns with the help of pre-existing data"
      ]
    },
    {
      "cell_type": "markdown",
      "id": "57553a2a",
      "metadata": {
        "id": "57553a2a"
      },
      "source": [
        "#### 4.1 Converting 'Birthday_count' column into 'Birthdate' and 'Age'"
      ]
    },
    {
      "cell_type": "code",
      "execution_count": null,
      "id": "9222b295",
      "metadata": {
        "colab": {
          "base_uri": "https://localhost:8080/",
          "height": 206
        },
        "id": "9222b295",
        "outputId": "f48ae50f-bfb4-4ed8-83c1-a7e5efbe399b"
      },
      "outputs": [
        {
          "output_type": "execute_result",
          "data": {
            "text/plain": [
              "    Birthdate  Age\n",
              "0  1973-08-26   51\n",
              "1  1987-12-06   37\n",
              "4  1987-12-06   37\n",
              "6  1987-12-06   37\n",
              "7  1964-06-12   60"
            ],
            "text/html": [
              "\n",
              "  <div id=\"df-fd278c11-6edd-4b74-9b50-38fce4f3811d\" class=\"colab-df-container\">\n",
              "    <div>\n",
              "<style scoped>\n",
              "    .dataframe tbody tr th:only-of-type {\n",
              "        vertical-align: middle;\n",
              "    }\n",
              "\n",
              "    .dataframe tbody tr th {\n",
              "        vertical-align: top;\n",
              "    }\n",
              "\n",
              "    .dataframe thead th {\n",
              "        text-align: right;\n",
              "    }\n",
              "</style>\n",
              "<table border=\"1\" class=\"dataframe\">\n",
              "  <thead>\n",
              "    <tr style=\"text-align: right;\">\n",
              "      <th></th>\n",
              "      <th>Birthdate</th>\n",
              "      <th>Age</th>\n",
              "    </tr>\n",
              "  </thead>\n",
              "  <tbody>\n",
              "    <tr>\n",
              "      <th>0</th>\n",
              "      <td>1973-08-26</td>\n",
              "      <td>51</td>\n",
              "    </tr>\n",
              "    <tr>\n",
              "      <th>1</th>\n",
              "      <td>1987-12-06</td>\n",
              "      <td>37</td>\n",
              "    </tr>\n",
              "    <tr>\n",
              "      <th>4</th>\n",
              "      <td>1987-12-06</td>\n",
              "      <td>37</td>\n",
              "    </tr>\n",
              "    <tr>\n",
              "      <th>6</th>\n",
              "      <td>1987-12-06</td>\n",
              "      <td>37</td>\n",
              "    </tr>\n",
              "    <tr>\n",
              "      <th>7</th>\n",
              "      <td>1964-06-12</td>\n",
              "      <td>60</td>\n",
              "    </tr>\n",
              "  </tbody>\n",
              "</table>\n",
              "</div>\n",
              "    <div class=\"colab-df-buttons\">\n",
              "\n",
              "  <div class=\"colab-df-container\">\n",
              "    <button class=\"colab-df-convert\" onclick=\"convertToInteractive('df-fd278c11-6edd-4b74-9b50-38fce4f3811d')\"\n",
              "            title=\"Convert this dataframe to an interactive table.\"\n",
              "            style=\"display:none;\">\n",
              "\n",
              "  <svg xmlns=\"http://www.w3.org/2000/svg\" height=\"24px\" viewBox=\"0 -960 960 960\">\n",
              "    <path d=\"M120-120v-720h720v720H120Zm60-500h600v-160H180v160Zm220 220h160v-160H400v160Zm0 220h160v-160H400v160ZM180-400h160v-160H180v160Zm440 0h160v-160H620v160ZM180-180h160v-160H180v160Zm440 0h160v-160H620v160Z\"/>\n",
              "  </svg>\n",
              "    </button>\n",
              "\n",
              "  <style>\n",
              "    .colab-df-container {\n",
              "      display:flex;\n",
              "      gap: 12px;\n",
              "    }\n",
              "\n",
              "    .colab-df-convert {\n",
              "      background-color: #E8F0FE;\n",
              "      border: none;\n",
              "      border-radius: 50%;\n",
              "      cursor: pointer;\n",
              "      display: none;\n",
              "      fill: #1967D2;\n",
              "      height: 32px;\n",
              "      padding: 0 0 0 0;\n",
              "      width: 32px;\n",
              "    }\n",
              "\n",
              "    .colab-df-convert:hover {\n",
              "      background-color: #E2EBFA;\n",
              "      box-shadow: 0px 1px 2px rgba(60, 64, 67, 0.3), 0px 1px 3px 1px rgba(60, 64, 67, 0.15);\n",
              "      fill: #174EA6;\n",
              "    }\n",
              "\n",
              "    .colab-df-buttons div {\n",
              "      margin-bottom: 4px;\n",
              "    }\n",
              "\n",
              "    [theme=dark] .colab-df-convert {\n",
              "      background-color: #3B4455;\n",
              "      fill: #D2E3FC;\n",
              "    }\n",
              "\n",
              "    [theme=dark] .colab-df-convert:hover {\n",
              "      background-color: #434B5C;\n",
              "      box-shadow: 0px 1px 3px 1px rgba(0, 0, 0, 0.15);\n",
              "      filter: drop-shadow(0px 1px 2px rgba(0, 0, 0, 0.3));\n",
              "      fill: #FFFFFF;\n",
              "    }\n",
              "  </style>\n",
              "\n",
              "    <script>\n",
              "      const buttonEl =\n",
              "        document.querySelector('#df-fd278c11-6edd-4b74-9b50-38fce4f3811d button.colab-df-convert');\n",
              "      buttonEl.style.display =\n",
              "        google.colab.kernel.accessAllowed ? 'block' : 'none';\n",
              "\n",
              "      async function convertToInteractive(key) {\n",
              "        const element = document.querySelector('#df-fd278c11-6edd-4b74-9b50-38fce4f3811d');\n",
              "        const dataTable =\n",
              "          await google.colab.kernel.invokeFunction('convertToInteractive',\n",
              "                                                    [key], {});\n",
              "        if (!dataTable) return;\n",
              "\n",
              "        const docLinkHtml = 'Like what you see? Visit the ' +\n",
              "          '<a target=\"_blank\" href=https://colab.research.google.com/notebooks/data_table.ipynb>data table notebook</a>'\n",
              "          + ' to learn more about interactive tables.';\n",
              "        element.innerHTML = '';\n",
              "        dataTable['output_type'] = 'display_data';\n",
              "        await google.colab.output.renderOutput(dataTable, element);\n",
              "        const docLink = document.createElement('div');\n",
              "        docLink.innerHTML = docLinkHtml;\n",
              "        element.appendChild(docLink);\n",
              "      }\n",
              "    </script>\n",
              "  </div>\n",
              "\n",
              "\n",
              "<div id=\"df-da1cee03-900f-4f42-ae59-3d63fa07b9d9\">\n",
              "  <button class=\"colab-df-quickchart\" onclick=\"quickchart('df-da1cee03-900f-4f42-ae59-3d63fa07b9d9')\"\n",
              "            title=\"Suggest charts\"\n",
              "            style=\"display:none;\">\n",
              "\n",
              "<svg xmlns=\"http://www.w3.org/2000/svg\" height=\"24px\"viewBox=\"0 0 24 24\"\n",
              "     width=\"24px\">\n",
              "    <g>\n",
              "        <path d=\"M19 3H5c-1.1 0-2 .9-2 2v14c0 1.1.9 2 2 2h14c1.1 0 2-.9 2-2V5c0-1.1-.9-2-2-2zM9 17H7v-7h2v7zm4 0h-2V7h2v10zm4 0h-2v-4h2v4z\"/>\n",
              "    </g>\n",
              "</svg>\n",
              "  </button>\n",
              "\n",
              "<style>\n",
              "  .colab-df-quickchart {\n",
              "      --bg-color: #E8F0FE;\n",
              "      --fill-color: #1967D2;\n",
              "      --hover-bg-color: #E2EBFA;\n",
              "      --hover-fill-color: #174EA6;\n",
              "      --disabled-fill-color: #AAA;\n",
              "      --disabled-bg-color: #DDD;\n",
              "  }\n",
              "\n",
              "  [theme=dark] .colab-df-quickchart {\n",
              "      --bg-color: #3B4455;\n",
              "      --fill-color: #D2E3FC;\n",
              "      --hover-bg-color: #434B5C;\n",
              "      --hover-fill-color: #FFFFFF;\n",
              "      --disabled-bg-color: #3B4455;\n",
              "      --disabled-fill-color: #666;\n",
              "  }\n",
              "\n",
              "  .colab-df-quickchart {\n",
              "    background-color: var(--bg-color);\n",
              "    border: none;\n",
              "    border-radius: 50%;\n",
              "    cursor: pointer;\n",
              "    display: none;\n",
              "    fill: var(--fill-color);\n",
              "    height: 32px;\n",
              "    padding: 0;\n",
              "    width: 32px;\n",
              "  }\n",
              "\n",
              "  .colab-df-quickchart:hover {\n",
              "    background-color: var(--hover-bg-color);\n",
              "    box-shadow: 0 1px 2px rgba(60, 64, 67, 0.3), 0 1px 3px 1px rgba(60, 64, 67, 0.15);\n",
              "    fill: var(--button-hover-fill-color);\n",
              "  }\n",
              "\n",
              "  .colab-df-quickchart-complete:disabled,\n",
              "  .colab-df-quickchart-complete:disabled:hover {\n",
              "    background-color: var(--disabled-bg-color);\n",
              "    fill: var(--disabled-fill-color);\n",
              "    box-shadow: none;\n",
              "  }\n",
              "\n",
              "  .colab-df-spinner {\n",
              "    border: 2px solid var(--fill-color);\n",
              "    border-color: transparent;\n",
              "    border-bottom-color: var(--fill-color);\n",
              "    animation:\n",
              "      spin 1s steps(1) infinite;\n",
              "  }\n",
              "\n",
              "  @keyframes spin {\n",
              "    0% {\n",
              "      border-color: transparent;\n",
              "      border-bottom-color: var(--fill-color);\n",
              "      border-left-color: var(--fill-color);\n",
              "    }\n",
              "    20% {\n",
              "      border-color: transparent;\n",
              "      border-left-color: var(--fill-color);\n",
              "      border-top-color: var(--fill-color);\n",
              "    }\n",
              "    30% {\n",
              "      border-color: transparent;\n",
              "      border-left-color: var(--fill-color);\n",
              "      border-top-color: var(--fill-color);\n",
              "      border-right-color: var(--fill-color);\n",
              "    }\n",
              "    40% {\n",
              "      border-color: transparent;\n",
              "      border-right-color: var(--fill-color);\n",
              "      border-top-color: var(--fill-color);\n",
              "    }\n",
              "    60% {\n",
              "      border-color: transparent;\n",
              "      border-right-color: var(--fill-color);\n",
              "    }\n",
              "    80% {\n",
              "      border-color: transparent;\n",
              "      border-right-color: var(--fill-color);\n",
              "      border-bottom-color: var(--fill-color);\n",
              "    }\n",
              "    90% {\n",
              "      border-color: transparent;\n",
              "      border-bottom-color: var(--fill-color);\n",
              "    }\n",
              "  }\n",
              "</style>\n",
              "\n",
              "  <script>\n",
              "    async function quickchart(key) {\n",
              "      const quickchartButtonEl =\n",
              "        document.querySelector('#' + key + ' button');\n",
              "      quickchartButtonEl.disabled = true;  // To prevent multiple clicks.\n",
              "      quickchartButtonEl.classList.add('colab-df-spinner');\n",
              "      try {\n",
              "        const charts = await google.colab.kernel.invokeFunction(\n",
              "            'suggestCharts', [key], {});\n",
              "      } catch (error) {\n",
              "        console.error('Error during call to suggestCharts:', error);\n",
              "      }\n",
              "      quickchartButtonEl.classList.remove('colab-df-spinner');\n",
              "      quickchartButtonEl.classList.add('colab-df-quickchart-complete');\n",
              "    }\n",
              "    (() => {\n",
              "      let quickchartButtonEl =\n",
              "        document.querySelector('#df-da1cee03-900f-4f42-ae59-3d63fa07b9d9 button');\n",
              "      quickchartButtonEl.style.display =\n",
              "        google.colab.kernel.accessAllowed ? 'block' : 'none';\n",
              "    })();\n",
              "  </script>\n",
              "</div>\n",
              "\n",
              "    </div>\n",
              "  </div>\n"
            ],
            "application/vnd.google.colaboratory.intrinsic+json": {
              "type": "dataframe",
              "summary": "{\n  \"name\": \"Credit_data_cleaned[['Birthdate', 'Age']]\",\n  \"rows\": 5,\n  \"fields\": [\n    {\n      \"column\": \"Birthdate\",\n      \"properties\": {\n        \"dtype\": \"date\",\n        \"min\": \"1964-06-12\",\n        \"max\": \"1987-12-06\",\n        \"num_unique_values\": 3,\n        \"samples\": [\n          \"1973-08-26\",\n          \"1987-12-06\",\n          \"1964-06-12\"\n        ],\n        \"semantic_type\": \"\",\n        \"description\": \"\"\n      }\n    },\n    {\n      \"column\": \"Age\",\n      \"properties\": {\n        \"dtype\": \"number\",\n        \"std\": 10,\n        \"min\": 37,\n        \"max\": 60,\n        \"num_unique_values\": 3,\n        \"samples\": [\n          51,\n          37,\n          60\n        ],\n        \"semantic_type\": \"\",\n        \"description\": \"\"\n      }\n    }\n  ]\n}"
            }
          },
          "metadata": {},
          "execution_count": 20
        }
      ],
      "source": [
        "# Adding the current date to the Credit Data as 'Current_Date' to calculate the 'Birthdate'\n",
        "Credit_data_cleaned['Current_Date'] = datetime.now()\n",
        "\n",
        "# Converting 'Birthday_count' to timedelta and subtract from the current date\n",
        "Credit_data_cleaned['Birthdate'] = Credit_data_cleaned['Current_Date'] - abs(Credit_data_cleaned['Birthday_count']).apply(lambda x: timedelta(days=x))\n",
        "\n",
        "# Calculating 'Age' in years based on 'Birthdate' column\n",
        "Credit_data_cleaned['Age'] = ((Credit_data_cleaned['Current_Date'] - Credit_data_cleaned['Birthdate']).dt.days / 365.25).astype(int)\n",
        "\n",
        "# Extracting only the date part from 'Birthdate' column\n",
        "Credit_data_cleaned['Birthdate'] = Credit_data_cleaned['Birthdate'].dt.date\n",
        "# Displaying the result\n",
        "Credit_data_cleaned[['Birthdate', 'Age']].head()"
      ]
    },
    {
      "cell_type": "markdown",
      "id": "4c298aea",
      "metadata": {
        "id": "4c298aea"
      },
      "source": [
        "#### 4.2 Converting 'Employed_days' column into 'Employment_startdate' and 'Employed_Years'"
      ]
    },
    {
      "cell_type": "code",
      "execution_count": null,
      "id": "5bd36344",
      "metadata": {
        "colab": {
          "base_uri": "https://localhost:8080/",
          "height": 206
        },
        "id": "5bd36344",
        "outputId": "0ec0f546-5ec4-4d87-96ac-a002cb093b8f"
      },
      "outputs": [
        {
          "output_type": "execute_result",
          "data": {
            "text/plain": [
              "  Employment_startdate  Employed_Years\n",
              "0           1975-01-30           49.97\n",
              "1           2026-08-26            1.60\n",
              "4           2026-08-26            1.60\n",
              "6           2026-08-26            1.60\n",
              "7           1975-01-30           49.97"
            ],
            "text/html": [
              "\n",
              "  <div id=\"df-8b45a42f-53aa-4cef-b410-3d9f5af89a51\" class=\"colab-df-container\">\n",
              "    <div>\n",
              "<style scoped>\n",
              "    .dataframe tbody tr th:only-of-type {\n",
              "        vertical-align: middle;\n",
              "    }\n",
              "\n",
              "    .dataframe tbody tr th {\n",
              "        vertical-align: top;\n",
              "    }\n",
              "\n",
              "    .dataframe thead th {\n",
              "        text-align: right;\n",
              "    }\n",
              "</style>\n",
              "<table border=\"1\" class=\"dataframe\">\n",
              "  <thead>\n",
              "    <tr style=\"text-align: right;\">\n",
              "      <th></th>\n",
              "      <th>Employment_startdate</th>\n",
              "      <th>Employed_Years</th>\n",
              "    </tr>\n",
              "  </thead>\n",
              "  <tbody>\n",
              "    <tr>\n",
              "      <th>0</th>\n",
              "      <td>1975-01-30</td>\n",
              "      <td>49.97</td>\n",
              "    </tr>\n",
              "    <tr>\n",
              "      <th>1</th>\n",
              "      <td>2026-08-26</td>\n",
              "      <td>1.60</td>\n",
              "    </tr>\n",
              "    <tr>\n",
              "      <th>4</th>\n",
              "      <td>2026-08-26</td>\n",
              "      <td>1.60</td>\n",
              "    </tr>\n",
              "    <tr>\n",
              "      <th>6</th>\n",
              "      <td>2026-08-26</td>\n",
              "      <td>1.60</td>\n",
              "    </tr>\n",
              "    <tr>\n",
              "      <th>7</th>\n",
              "      <td>1975-01-30</td>\n",
              "      <td>49.97</td>\n",
              "    </tr>\n",
              "  </tbody>\n",
              "</table>\n",
              "</div>\n",
              "    <div class=\"colab-df-buttons\">\n",
              "\n",
              "  <div class=\"colab-df-container\">\n",
              "    <button class=\"colab-df-convert\" onclick=\"convertToInteractive('df-8b45a42f-53aa-4cef-b410-3d9f5af89a51')\"\n",
              "            title=\"Convert this dataframe to an interactive table.\"\n",
              "            style=\"display:none;\">\n",
              "\n",
              "  <svg xmlns=\"http://www.w3.org/2000/svg\" height=\"24px\" viewBox=\"0 -960 960 960\">\n",
              "    <path d=\"M120-120v-720h720v720H120Zm60-500h600v-160H180v160Zm220 220h160v-160H400v160Zm0 220h160v-160H400v160ZM180-400h160v-160H180v160Zm440 0h160v-160H620v160ZM180-180h160v-160H180v160Zm440 0h160v-160H620v160Z\"/>\n",
              "  </svg>\n",
              "    </button>\n",
              "\n",
              "  <style>\n",
              "    .colab-df-container {\n",
              "      display:flex;\n",
              "      gap: 12px;\n",
              "    }\n",
              "\n",
              "    .colab-df-convert {\n",
              "      background-color: #E8F0FE;\n",
              "      border: none;\n",
              "      border-radius: 50%;\n",
              "      cursor: pointer;\n",
              "      display: none;\n",
              "      fill: #1967D2;\n",
              "      height: 32px;\n",
              "      padding: 0 0 0 0;\n",
              "      width: 32px;\n",
              "    }\n",
              "\n",
              "    .colab-df-convert:hover {\n",
              "      background-color: #E2EBFA;\n",
              "      box-shadow: 0px 1px 2px rgba(60, 64, 67, 0.3), 0px 1px 3px 1px rgba(60, 64, 67, 0.15);\n",
              "      fill: #174EA6;\n",
              "    }\n",
              "\n",
              "    .colab-df-buttons div {\n",
              "      margin-bottom: 4px;\n",
              "    }\n",
              "\n",
              "    [theme=dark] .colab-df-convert {\n",
              "      background-color: #3B4455;\n",
              "      fill: #D2E3FC;\n",
              "    }\n",
              "\n",
              "    [theme=dark] .colab-df-convert:hover {\n",
              "      background-color: #434B5C;\n",
              "      box-shadow: 0px 1px 3px 1px rgba(0, 0, 0, 0.15);\n",
              "      filter: drop-shadow(0px 1px 2px rgba(0, 0, 0, 0.3));\n",
              "      fill: #FFFFFF;\n",
              "    }\n",
              "  </style>\n",
              "\n",
              "    <script>\n",
              "      const buttonEl =\n",
              "        document.querySelector('#df-8b45a42f-53aa-4cef-b410-3d9f5af89a51 button.colab-df-convert');\n",
              "      buttonEl.style.display =\n",
              "        google.colab.kernel.accessAllowed ? 'block' : 'none';\n",
              "\n",
              "      async function convertToInteractive(key) {\n",
              "        const element = document.querySelector('#df-8b45a42f-53aa-4cef-b410-3d9f5af89a51');\n",
              "        const dataTable =\n",
              "          await google.colab.kernel.invokeFunction('convertToInteractive',\n",
              "                                                    [key], {});\n",
              "        if (!dataTable) return;\n",
              "\n",
              "        const docLinkHtml = 'Like what you see? Visit the ' +\n",
              "          '<a target=\"_blank\" href=https://colab.research.google.com/notebooks/data_table.ipynb>data table notebook</a>'\n",
              "          + ' to learn more about interactive tables.';\n",
              "        element.innerHTML = '';\n",
              "        dataTable['output_type'] = 'display_data';\n",
              "        await google.colab.output.renderOutput(dataTable, element);\n",
              "        const docLink = document.createElement('div');\n",
              "        docLink.innerHTML = docLinkHtml;\n",
              "        element.appendChild(docLink);\n",
              "      }\n",
              "    </script>\n",
              "  </div>\n",
              "\n",
              "\n",
              "<div id=\"df-c6ca70d2-857c-41e7-86b9-03a6ab71176b\">\n",
              "  <button class=\"colab-df-quickchart\" onclick=\"quickchart('df-c6ca70d2-857c-41e7-86b9-03a6ab71176b')\"\n",
              "            title=\"Suggest charts\"\n",
              "            style=\"display:none;\">\n",
              "\n",
              "<svg xmlns=\"http://www.w3.org/2000/svg\" height=\"24px\"viewBox=\"0 0 24 24\"\n",
              "     width=\"24px\">\n",
              "    <g>\n",
              "        <path d=\"M19 3H5c-1.1 0-2 .9-2 2v14c0 1.1.9 2 2 2h14c1.1 0 2-.9 2-2V5c0-1.1-.9-2-2-2zM9 17H7v-7h2v7zm4 0h-2V7h2v10zm4 0h-2v-4h2v4z\"/>\n",
              "    </g>\n",
              "</svg>\n",
              "  </button>\n",
              "\n",
              "<style>\n",
              "  .colab-df-quickchart {\n",
              "      --bg-color: #E8F0FE;\n",
              "      --fill-color: #1967D2;\n",
              "      --hover-bg-color: #E2EBFA;\n",
              "      --hover-fill-color: #174EA6;\n",
              "      --disabled-fill-color: #AAA;\n",
              "      --disabled-bg-color: #DDD;\n",
              "  }\n",
              "\n",
              "  [theme=dark] .colab-df-quickchart {\n",
              "      --bg-color: #3B4455;\n",
              "      --fill-color: #D2E3FC;\n",
              "      --hover-bg-color: #434B5C;\n",
              "      --hover-fill-color: #FFFFFF;\n",
              "      --disabled-bg-color: #3B4455;\n",
              "      --disabled-fill-color: #666;\n",
              "  }\n",
              "\n",
              "  .colab-df-quickchart {\n",
              "    background-color: var(--bg-color);\n",
              "    border: none;\n",
              "    border-radius: 50%;\n",
              "    cursor: pointer;\n",
              "    display: none;\n",
              "    fill: var(--fill-color);\n",
              "    height: 32px;\n",
              "    padding: 0;\n",
              "    width: 32px;\n",
              "  }\n",
              "\n",
              "  .colab-df-quickchart:hover {\n",
              "    background-color: var(--hover-bg-color);\n",
              "    box-shadow: 0 1px 2px rgba(60, 64, 67, 0.3), 0 1px 3px 1px rgba(60, 64, 67, 0.15);\n",
              "    fill: var(--button-hover-fill-color);\n",
              "  }\n",
              "\n",
              "  .colab-df-quickchart-complete:disabled,\n",
              "  .colab-df-quickchart-complete:disabled:hover {\n",
              "    background-color: var(--disabled-bg-color);\n",
              "    fill: var(--disabled-fill-color);\n",
              "    box-shadow: none;\n",
              "  }\n",
              "\n",
              "  .colab-df-spinner {\n",
              "    border: 2px solid var(--fill-color);\n",
              "    border-color: transparent;\n",
              "    border-bottom-color: var(--fill-color);\n",
              "    animation:\n",
              "      spin 1s steps(1) infinite;\n",
              "  }\n",
              "\n",
              "  @keyframes spin {\n",
              "    0% {\n",
              "      border-color: transparent;\n",
              "      border-bottom-color: var(--fill-color);\n",
              "      border-left-color: var(--fill-color);\n",
              "    }\n",
              "    20% {\n",
              "      border-color: transparent;\n",
              "      border-left-color: var(--fill-color);\n",
              "      border-top-color: var(--fill-color);\n",
              "    }\n",
              "    30% {\n",
              "      border-color: transparent;\n",
              "      border-left-color: var(--fill-color);\n",
              "      border-top-color: var(--fill-color);\n",
              "      border-right-color: var(--fill-color);\n",
              "    }\n",
              "    40% {\n",
              "      border-color: transparent;\n",
              "      border-right-color: var(--fill-color);\n",
              "      border-top-color: var(--fill-color);\n",
              "    }\n",
              "    60% {\n",
              "      border-color: transparent;\n",
              "      border-right-color: var(--fill-color);\n",
              "    }\n",
              "    80% {\n",
              "      border-color: transparent;\n",
              "      border-right-color: var(--fill-color);\n",
              "      border-bottom-color: var(--fill-color);\n",
              "    }\n",
              "    90% {\n",
              "      border-color: transparent;\n",
              "      border-bottom-color: var(--fill-color);\n",
              "    }\n",
              "  }\n",
              "</style>\n",
              "\n",
              "  <script>\n",
              "    async function quickchart(key) {\n",
              "      const quickchartButtonEl =\n",
              "        document.querySelector('#' + key + ' button');\n",
              "      quickchartButtonEl.disabled = true;  // To prevent multiple clicks.\n",
              "      quickchartButtonEl.classList.add('colab-df-spinner');\n",
              "      try {\n",
              "        const charts = await google.colab.kernel.invokeFunction(\n",
              "            'suggestCharts', [key], {});\n",
              "      } catch (error) {\n",
              "        console.error('Error during call to suggestCharts:', error);\n",
              "      }\n",
              "      quickchartButtonEl.classList.remove('colab-df-spinner');\n",
              "      quickchartButtonEl.classList.add('colab-df-quickchart-complete');\n",
              "    }\n",
              "    (() => {\n",
              "      let quickchartButtonEl =\n",
              "        document.querySelector('#df-c6ca70d2-857c-41e7-86b9-03a6ab71176b button');\n",
              "      quickchartButtonEl.style.display =\n",
              "        google.colab.kernel.accessAllowed ? 'block' : 'none';\n",
              "    })();\n",
              "  </script>\n",
              "</div>\n",
              "\n",
              "    </div>\n",
              "  </div>\n"
            ],
            "application/vnd.google.colaboratory.intrinsic+json": {
              "type": "dataframe",
              "summary": "{\n  \"name\": \"Credit_data_cleaned[['Employment_startdate','Employed_Years']]\",\n  \"rows\": 5,\n  \"fields\": [\n    {\n      \"column\": \"Employment_startdate\",\n      \"properties\": {\n        \"dtype\": \"date\",\n        \"min\": \"1975-01-30\",\n        \"max\": \"2026-08-26\",\n        \"num_unique_values\": 2,\n        \"samples\": [\n          \"2026-08-26\",\n          \"1975-01-30\"\n        ],\n        \"semantic_type\": \"\",\n        \"description\": \"\"\n      }\n    },\n    {\n      \"column\": \"Employed_Years\",\n      \"properties\": {\n        \"dtype\": \"number\",\n        \"std\": 26.493340106524883,\n        \"min\": 1.6,\n        \"max\": 49.97,\n        \"num_unique_values\": 2,\n        \"samples\": [\n          1.6,\n          49.97\n        ],\n        \"semantic_type\": \"\",\n        \"description\": \"\"\n      }\n    }\n  ]\n}"
            }
          },
          "metadata": {},
          "execution_count": 21
        }
      ],
      "source": [
        "max_employed_days = 365 * 50  # Assuming a maximum employment duration of 50 years\n",
        "\n",
        "# Converting 'Employed_days' to timedelta and Calculating 'Employment_startdate'\n",
        "Credit_data_cleaned['Employed_days'] = Credit_data_cleaned['Employed_days'].clip(upper=max_employed_days)\n",
        "Credit_data_cleaned['Employment_startdate'] = Credit_data_cleaned['Current_Date'] - pd.to_timedelta(Credit_data_cleaned['Employed_days'], unit='D')\n",
        "\n",
        "# Calculating 'Employed_Years' that gives the difference in years\n",
        "Credit_data_cleaned['Employed_Years'] = abs(round((Credit_data_cleaned['Current_Date'] - Credit_data_cleaned['Employment_startdate']).dt.days / 365.25,2))\n",
        "\n",
        "# Extracting only the date part\n",
        "Credit_data_cleaned['Employment_startdate'] = Credit_data_cleaned['Employment_startdate'].dt.date\n",
        "# Displaying the result\n",
        "Credit_data_cleaned[['Employment_startdate','Employed_Years']].head()"
      ]
    },
    {
      "cell_type": "code",
      "execution_count": null,
      "id": "678d2e6a",
      "metadata": {
        "id": "678d2e6a"
      },
      "outputs": [],
      "source": [
        "# Dropping 'Current_Date', 'Birthday_count' and 'Employed_days' columns\n",
        "Credit_data_cleaned = Credit_data_cleaned.drop(['Current_Date','Birthday_count','Employed_days'], axis=1)"
      ]
    },
    {
      "cell_type": "code",
      "execution_count": null,
      "id": "5022c1ed",
      "metadata": {
        "colab": {
          "base_uri": "https://localhost:8080/"
        },
        "id": "5022c1ed",
        "outputId": "c83120a0-70a8-4e4b-f7ba-f39fc4b7e6f2"
      },
      "outputs": [
        {
          "output_type": "execute_result",
          "data": {
            "text/plain": [
              "array([51, 37, 60, 46, 35, 32, 48, 33, 43, 59, 29, 55, 57, 65, 52, 63, 42,\n",
              "       30, 50, 31, 26, 28, 49, 44, 45, 67, 64, 24, 41, 38, 39, 34, 47, 54,\n",
              "       62, 53, 58, 27, 56, 66, 40, 36, 23, 22, 25, 61, 68, 21])"
            ]
          },
          "metadata": {},
          "execution_count": 23
        }
      ],
      "source": [
        "# Checking values for creating bins for 'Age' column\n",
        "Credit_data_cleaned['Age'].unique()\n"
      ]
    },
    {
      "cell_type": "code",
      "execution_count": null,
      "id": "06009d5f",
      "metadata": {
        "colab": {
          "base_uri": "https://localhost:8080/"
        },
        "id": "06009d5f",
        "outputId": "77350022-14ce-476e-ebba-0f8c39698b2f"
      },
      "outputs": [
        {
          "output_type": "stream",
          "name": "stdout",
          "text": [
            "    Age Age_Category\n",
            "0    51        Adult\n",
            "1    37        Young\n",
            "4    37        Young\n",
            "6    37        Young\n",
            "7    60       Senior\n",
            "11   51        Adult\n",
            "13   51        Adult\n",
            "15   46        Adult\n",
            "16   46        Adult\n",
            "17   51        Adult\n"
          ]
        }
      ],
      "source": [
        "# Creating bins and labels for 'Age' category\n",
        "bins = [20, 40, 60, 70]\n",
        "labels = ['Young', 'Adult', 'Senior'] # 'Young' (20-39), 'Adult' (40-59), and 'Senior' (60-69)\n",
        "\n",
        "# Apply binning to the 'Age' column\n",
        "Credit_data_cleaned['Age_Category'] = pd.cut(Credit_data_cleaned['Age'], bins=bins, labels=labels, right=False)\n",
        "\n",
        "# Displaying the result\n",
        "print(Credit_data_cleaned[['Age', 'Age_Category']].head(10))\n"
      ]
    },
    {
      "cell_type": "markdown",
      "id": "93d24510",
      "metadata": {
        "id": "93d24510"
      },
      "source": [
        "\n"
      ]
    },
    {
      "cell_type": "code",
      "execution_count": null,
      "id": "5039c0bd",
      "metadata": {
        "id": "5039c0bd"
      },
      "outputs": [],
      "source": []
    },
    {
      "cell_type": "markdown",
      "id": "93cff429",
      "metadata": {
        "id": "93cff429"
      },
      "source": [
        "#### 4.4 Removing outliers of newly created columns 'Employed_Years' & 'Age'"
      ]
    },
    {
      "cell_type": "code",
      "execution_count": null,
      "id": "8b1e7742",
      "metadata": {
        "colab": {
          "base_uri": "https://localhost:8080/",
          "height": 407
        },
        "id": "8b1e7742",
        "outputId": "d8fe35d4-91d4-46f1-8803-9a9a84053c47"
      },
      "outputs": [
        {
          "output_type": "display_data",
          "data": {
            "text/plain": [
              "<Figure size 1200x400 with 2 Axes>"
            ],
            "image/png": "[encoded data removed]"
          },
          "metadata": {}
        }
      ],
      "source": [
        "# Defining numerical features to handle outliers\n",
        "numerical_features = [ 'Age', 'Employed_Years']\n",
        "numerical_data = Credit_data_cleaned[numerical_features]\n",
        "\n",
        "# Plotting Box plots for each numerical column to check outliers\n",
        "fig, axes = plt.subplots(nrows=len(numerical_data.columns), figsize=(12, 2 * len(numerical_data.columns)))\n",
        "\n",
        "# Iterating through each numerical column and plot a boxplot\n",
        "for i, col in enumerate(numerical_data.columns):\n",
        "    sns.boxplot(x=numerical_data[col], ax=axes[i])\n",
        "    axes[i].set_title(f'Box Plot of {col}')\n",
        "\n",
        "# Adjusting layout\n",
        "plt.tight_layout()\n",
        "plt.show()"
      ]
    },
    {
      "cell_type": "code",
      "execution_count": null,
      "id": "a85594c8",
      "metadata": {
        "id": "a85594c8"
      },
      "outputs": [],
      "source": [
        "# Identifying and removing outliers in selected columns using the IQR method\n",
        "columns_to_remove_outliers = numerical_features = [ 'Age', 'Employed_Years']\n",
        "\n",
        "def remove_outliers(data, column): # Function to remove outliers based on Interquartile Range (IQR)\n",
        "    Q1 = np.percentile(column, 25)\n",
        "    Q3 = np.percentile(column, 75)\n",
        "    IQR = Q3 - Q1\n",
        "    # Defining lower and upper bounds\n",
        "    lower_bound = Q1 - (1.5 * IQR)\n",
        "    upper_bound = Q3 + (1.5 * IQR)\n",
        "    return data[(column > lower_bound) & (column < upper_bound)] # Returning data without outliers\n",
        "\n",
        "# Looping through selected columns and removing outliers\n",
        "i = 0\n",
        "for i in range(5):\n",
        "    for col in columns_to_remove_outliers:\n",
        "        Credit_data_cleaned = remove_outliers(Credit_data_cleaned, Credit_data_cleaned[col])"
      ]
    },
    {
      "cell_type": "code",
      "execution_count": null,
      "id": "00292540",
      "metadata": {
        "colab": {
          "base_uri": "https://localhost:8080/",
          "height": 407
        },
        "id": "00292540",
        "outputId": "ddfbe219-a8a0-4664-e813-7d6c1a7e5dff"
      },
      "outputs": [
        {
          "output_type": "display_data",
          "data": {
            "text/plain": [
              "<Figure size 1200x400 with 2 Axes>"
            ],
            "image/png": "[encoded data removed]"
          },
          "metadata": {}
        }
      ],
      "source": [
        "# Defining numerical features to handle outliers\n",
        "numerical_features = [ 'Age', 'Employed_Years']\n",
        "numerical_data = Credit_data_cleaned[numerical_features]\n",
        "\n",
        "# Plotting Box plots for each numerical column to check outliers\n",
        "fig, axes = plt.subplots(nrows=len(numerical_data.columns), figsize=(12, 2 * len(numerical_data.columns)))\n",
        "\n",
        "# Iterating through each numerical column and plot a boxplot\n",
        "for i, col in enumerate(numerical_data.columns):\n",
        "    sns.boxplot(x=numerical_data[col], ax=axes[i])\n",
        "    axes[i].set_title(f'Box Plot of {col}')\n",
        "\n",
        "# Adjusting layout\n",
        "plt.tight_layout()\n",
        "plt.show()"
      ]
    },
    {
      "cell_type": "code",
      "execution_count": null,
      "id": "99465adc",
      "metadata": {
        "colab": {
          "base_uri": "https://localhost:8080/",
          "height": 410
        },
        "id": "99465adc",
        "outputId": "fce86d31-da2a-43d9-dff0-e98552c2c503"
      },
      "outputs": [
        {
          "output_type": "display_data",
          "data": {
            "text/plain": [
              "<Figure size 1500x400 with 1 Axes>"
            ],
            "image/png": "[encoded data removed]"
          },
          "metadata": {}
        }
      ],
      "source": [
        "plt.figure(figsize=(15,4))# Plotting a figure with a specified size\n",
        "\n",
        "# Plotting Count plot\n",
        "sns.countplot(x='Age_Category', hue='Label', data=Credit_data_cleaned, palette='rocket', edgecolor='black')\n",
        "\n",
        "# Adding Labels and Adjusting layout\n",
        "plt.title('Credit Card Approval by Age Category')\n",
        "plt.xlabel('Age_Category')\n",
        "plt.ylabel('Count')\n",
        "plt.legend(title='Label', loc='upper right')\n",
        "plt.show()"
      ]
    },
    {
      "cell_type": "code",
      "execution_count": null,
      "id": "9f4771e4",
      "metadata": {
        "colab": {
          "base_uri": "https://localhost:8080/",
          "height": 472
        },
        "id": "9f4771e4",
        "outputId": "e45d809b-dd70-4bc8-dbe5-375acda1638a"
      },
      "outputs": [
        {
          "output_type": "display_data",
          "data": {
            "text/plain": [
              "<Figure size 640x480 with 1 Axes>"
            ],
            "image/png": "[encoded data removed]"
          },
          "metadata": {}
        }
      ],
      "source": [
        "# Annual Income by Age Category - Box plot\n",
        "sns.boxplot(x='Age_Category', y='Annual_income', data=Credit_data_cleaned, palette='rocket')\n",
        "\n",
        "# Adding Labels and Adjusting layout\n",
        "plt.title('Annual Income Distribution by Age Category')\n",
        "plt.xlabel('Age Category')\n",
        "plt.ylabel('Annual Income ')\n",
        "plt.show()"
      ]
    },
    {
      "cell_type": "markdown",
      "id": "2e7aceb2",
      "metadata": {
        "id": "2e7aceb2"
      },
      "source": [
        "# 5 . Correlation"
      ]
    },
    {
      "cell_type": "code",
      "execution_count": null,
      "id": "a28d4f8d",
      "metadata": {
        "colab": {
          "base_uri": "https://localhost:8080/",
          "height": 206
        },
        "id": "a28d4f8d",
        "outputId": "c8a84608-8053-4cc8-afa1-e9abd4a13733"
      },
      "outputs": [
        {
          "output_type": "execute_result",
          "data": {
            "text/plain": [
              "               Annual_income  Children       Age Employed_Years Family_Members\n",
              "Annual_income            NaN -0.003508  0.046686       0.106606        0.00867\n",
              "Children           -0.003508       NaN -0.214077       0.030786       0.881755\n",
              "Age                 0.046686 -0.214077       NaN       0.177849      -0.158023\n",
              "Employed_Years      0.106606  0.030786  0.177849            NaN       0.053566\n",
              "Family_Members       0.00867  0.881755 -0.158023       0.053566            NaN"
            ],
            "text/html": [
              "\n",
              "  <div id=\"df-9f6d61bb-8d22-49ec-acc7-3755ee61624e\" class=\"colab-df-container\">\n",
              "    <div>\n",
              "<style scoped>\n",
              "    .dataframe tbody tr th:only-of-type {\n",
              "        vertical-align: middle;\n",
              "    }\n",
              "\n",
              "    .dataframe tbody tr th {\n",
              "        vertical-align: top;\n",
              "    }\n",
              "\n",
              "    .dataframe thead th {\n",
              "        text-align: right;\n",
              "    }\n",
              "</style>\n",
              "<table border=\"1\" class=\"dataframe\">\n",
              "  <thead>\n",
              "    <tr style=\"text-align: right;\">\n",
              "      <th></th>\n",
              "      <th>Annual_income</th>\n",
              "      <th>Children</th>\n",
              "      <th>Age</th>\n",
              "      <th>Employed_Years</th>\n",
              "      <th>Family_Members</th>\n",
              "    </tr>\n",
              "  </thead>\n",
              "  <tbody>\n",
              "    <tr>\n",
              "      <th>Annual_income</th>\n",
              "      <td>NaN</td>\n",
              "      <td>-0.003508</td>\n",
              "      <td>0.046686</td>\n",
              "      <td>0.106606</td>\n",
              "      <td>0.00867</td>\n",
              "    </tr>\n",
              "    <tr>\n",
              "      <th>Children</th>\n",
              "      <td>-0.003508</td>\n",
              "      <td>NaN</td>\n",
              "      <td>-0.214077</td>\n",
              "      <td>0.030786</td>\n",
              "      <td>0.881755</td>\n",
              "    </tr>\n",
              "    <tr>\n",
              "      <th>Age</th>\n",
              "      <td>0.046686</td>\n",
              "      <td>-0.214077</td>\n",
              "      <td>NaN</td>\n",
              "      <td>0.177849</td>\n",
              "      <td>-0.158023</td>\n",
              "    </tr>\n",
              "    <tr>\n",
              "      <th>Employed_Years</th>\n",
              "      <td>0.106606</td>\n",
              "      <td>0.030786</td>\n",
              "      <td>0.177849</td>\n",
              "      <td>NaN</td>\n",
              "      <td>0.053566</td>\n",
              "    </tr>\n",
              "    <tr>\n",
              "      <th>Family_Members</th>\n",
              "      <td>0.00867</td>\n",
              "      <td>0.881755</td>\n",
              "      <td>-0.158023</td>\n",
              "      <td>0.053566</td>\n",
              "      <td>NaN</td>\n",
              "    </tr>\n",
              "  </tbody>\n",
              "</table>\n",
              "</div>\n",
              "    <div class=\"colab-df-buttons\">\n",
              "\n",
              "  <div class=\"colab-df-container\">\n",
              "    <button class=\"colab-df-convert\" onclick=\"convertToInteractive('df-9f6d61bb-8d22-49ec-acc7-3755ee61624e')\"\n",
              "            title=\"Convert this dataframe to an interactive table.\"\n",
              "            style=\"display:none;\">\n",
              "\n",
              "  <svg xmlns=\"http://www.w3.org/2000/svg\" height=\"24px\" viewBox=\"0 -960 960 960\">\n",
              "    <path d=\"M120-120v-720h720v720H120Zm60-500h600v-160H180v160Zm220 220h160v-160H400v160Zm0 220h160v-160H400v160ZM180-400h160v-160H180v160Zm440 0h160v-160H620v160ZM180-180h160v-160H180v160Zm440 0h160v-160H620v160Z\"/>\n",
              "  </svg>\n",
              "    </button>\n",
              "\n",
              "  <style>\n",
              "    .colab-df-container {\n",
              "      display:flex;\n",
              "      gap: 12px;\n",
              "    }\n",
              "\n",
              "    .colab-df-convert {\n",
              "      background-color: #E8F0FE;\n",
              "      border: none;\n",
              "      border-radius: 50%;\n",
              "      cursor: pointer;\n",
              "      display: none;\n",
              "      fill: #1967D2;\n",
              "      height: 32px;\n",
              "      padding: 0 0 0 0;\n",
              "      width: 32px;\n",
              "    }\n",
              "\n",
              "    .colab-df-convert:hover {\n",
              "      background-color: #E2EBFA;\n",
              "      box-shadow: 0px 1px 2px rgba(60, 64, 67, 0.3), 0px 1px 3px 1px rgba(60, 64, 67, 0.15);\n",
              "      fill: #174EA6;\n",
              "    }\n",
              "\n",
              "    .colab-df-buttons div {\n",
              "      margin-bottom: 4px;\n",
              "    }\n",
              "\n",
              "    [theme=dark] .colab-df-convert {\n",
              "      background-color: #3B4455;\n",
              "      fill: #D2E3FC;\n",
              "    }\n",
              "\n",
              "    [theme=dark] .colab-df-convert:hover {\n",
              "      background-color: #434B5C;\n",
              "      box-shadow: 0px 1px 3px 1px rgba(0, 0, 0, 0.15);\n",
              "      filter: drop-shadow(0px 1px 2px rgba(0, 0, 0, 0.3));\n",
              "      fill: #FFFFFF;\n",
              "    }\n",
              "  </style>\n",
              "\n",
              "    <script>\n",
              "      const buttonEl =\n",
              "        document.querySelector('#df-9f6d61bb-8d22-49ec-acc7-3755ee61624e button.colab-df-convert');\n",
              "      buttonEl.style.display =\n",
              "        google.colab.kernel.accessAllowed ? 'block' : 'none';\n",
              "\n",
              "      async function convertToInteractive(key) {\n",
              "        const element = document.querySelector('#df-9f6d61bb-8d22-49ec-acc7-3755ee61624e');\n",
              "        const dataTable =\n",
              "          await google.colab.kernel.invokeFunction('convertToInteractive',\n",
              "                                                    [key], {});\n",
              "        if (!dataTable) return;\n",
              "\n",
              "        const docLinkHtml = 'Like what you see? Visit the ' +\n",
              "          '<a target=\"_blank\" href=https://colab.research.google.com/notebooks/data_table.ipynb>data table notebook</a>'\n",
              "          + ' to learn more about interactive tables.';\n",
              "        element.innerHTML = '';\n",
              "        dataTable['output_type'] = 'display_data';\n",
              "        await google.colab.output.renderOutput(dataTable, element);\n",
              "        const docLink = document.createElement('div');\n",
              "        docLink.innerHTML = docLinkHtml;\n",
              "        element.appendChild(docLink);\n",
              "      }\n",
              "    </script>\n",
              "  </div>\n",
              "\n",
              "\n",
              "<div id=\"df-6bcb6873-1695-42ac-aa63-182561cc01c8\">\n",
              "  <button class=\"colab-df-quickchart\" onclick=\"quickchart('df-6bcb6873-1695-42ac-aa63-182561cc01c8')\"\n",
              "            title=\"Suggest charts\"\n",
              "            style=\"display:none;\">\n",
              "\n",
              "<svg xmlns=\"http://www.w3.org/2000/svg\" height=\"24px\"viewBox=\"0 0 24 24\"\n",
              "     width=\"24px\">\n",
              "    <g>\n",
              "        <path d=\"M19 3H5c-1.1 0-2 .9-2 2v14c0 1.1.9 2 2 2h14c1.1 0 2-.9 2-2V5c0-1.1-.9-2-2-2zM9 17H7v-7h2v7zm4 0h-2V7h2v10zm4 0h-2v-4h2v4z\"/>\n",
              "    </g>\n",
              "</svg>\n",
              "  </button>\n",
              "\n",
              "<style>\n",
              "  .colab-df-quickchart {\n",
              "      --bg-color: #E8F0FE;\n",
              "      --fill-color: #1967D2;\n",
              "      --hover-bg-color: #E2EBFA;\n",
              "      --hover-fill-color: #174EA6;\n",
              "      --disabled-fill-color: #AAA;\n",
              "      --disabled-bg-color: #DDD;\n",
              "  }\n",
              "\n",
              "  [theme=dark] .colab-df-quickchart {\n",
              "      --bg-color: #3B4455;\n",
              "      --fill-color: #D2E3FC;\n",
              "      --hover-bg-color: #434B5C;\n",
              "      --hover-fill-color: #FFFFFF;\n",
              "      --disabled-bg-color: #3B4455;\n",
              "      --disabled-fill-color: #666;\n",
              "  }\n",
              "\n",
              "  .colab-df-quickchart {\n",
              "    background-color: var(--bg-color);\n",
              "    border: none;\n",
              "    border-radius: 50%;\n",
              "    cursor: pointer;\n",
              "    display: none;\n",
              "    fill: var(--fill-color);\n",
              "    height: 32px;\n",
              "    padding: 0;\n",
              "    width: 32px;\n",
              "  }\n",
              "\n",
              "  .colab-df-quickchart:hover {\n",
              "    background-color: var(--hover-bg-color);\n",
              "    box-shadow: 0 1px 2px rgba(60, 64, 67, 0.3), 0 1px 3px 1px rgba(60, 64, 67, 0.15);\n",
              "    fill: var(--button-hover-fill-color);\n",
              "  }\n",
              "\n",
              "  .colab-df-quickchart-complete:disabled,\n",
              "  .colab-df-quickchart-complete:disabled:hover {\n",
              "    background-color: var(--disabled-bg-color);\n",
              "    fill: var(--disabled-fill-color);\n",
              "    box-shadow: none;\n",
              "  }\n",
              "\n",
              "  .colab-df-spinner {\n",
              "    border: 2px solid var(--fill-color);\n",
              "    border-color: transparent;\n",
              "    border-bottom-color: var(--fill-color);\n",
              "    animation:\n",
              "      spin 1s steps(1) infinite;\n",
              "  }\n",
              "\n",
              "  @keyframes spin {\n",
              "    0% {\n",
              "      border-color: transparent;\n",
              "      border-bottom-color: var(--fill-color);\n",
              "      border-left-color: var(--fill-color);\n",
              "    }\n",
              "    20% {\n",
              "      border-color: transparent;\n",
              "      border-left-color: var(--fill-color);\n",
              "      border-top-color: var(--fill-color);\n",
              "    }\n",
              "    30% {\n",
              "      border-color: transparent;\n",
              "      border-left-color: var(--fill-color);\n",
              "      border-top-color: var(--fill-color);\n",
              "      border-right-color: var(--fill-color);\n",
              "    }\n",
              "    40% {\n",
              "      border-color: transparent;\n",
              "      border-right-color: var(--fill-color);\n",
              "      border-top-color: var(--fill-color);\n",
              "    }\n",
              "    60% {\n",
              "      border-color: transparent;\n",
              "      border-right-color: var(--fill-color);\n",
              "    }\n",
              "    80% {\n",
              "      border-color: transparent;\n",
              "      border-right-color: var(--fill-color);\n",
              "      border-bottom-color: var(--fill-color);\n",
              "    }\n",
              "    90% {\n",
              "      border-color: transparent;\n",
              "      border-bottom-color: var(--fill-color);\n",
              "    }\n",
              "  }\n",
              "</style>\n",
              "\n",
              "  <script>\n",
              "    async function quickchart(key) {\n",
              "      const quickchartButtonEl =\n",
              "        document.querySelector('#' + key + ' button');\n",
              "      quickchartButtonEl.disabled = true;  // To prevent multiple clicks.\n",
              "      quickchartButtonEl.classList.add('colab-df-spinner');\n",
              "      try {\n",
              "        const charts = await google.colab.kernel.invokeFunction(\n",
              "            'suggestCharts', [key], {});\n",
              "      } catch (error) {\n",
              "        console.error('Error during call to suggestCharts:', error);\n",
              "      }\n",
              "      quickchartButtonEl.classList.remove('colab-df-spinner');\n",
              "      quickchartButtonEl.classList.add('colab-df-quickchart-complete');\n",
              "    }\n",
              "    (() => {\n",
              "      let quickchartButtonEl =\n",
              "        document.querySelector('#df-6bcb6873-1695-42ac-aa63-182561cc01c8 button');\n",
              "      quickchartButtonEl.style.display =\n",
              "        google.colab.kernel.accessAllowed ? 'block' : 'none';\n",
              "    })();\n",
              "  </script>\n",
              "</div>\n",
              "\n",
              "  <div id=\"id_d523557d-c505-4708-8d77-2bcdc99bc3c8\">\n",
              "    <style>\n",
              "      .colab-df-generate {\n",
              "        background-color: #E8F0FE;\n",
              "        border: none;\n",
              "        border-radius: 50%;\n",
              "        cursor: pointer;\n",
              "        display: none;\n",
              "        fill: #1967D2;\n",
              "        height: 32px;\n",
              "        padding: 0 0 0 0;\n",
              "        width: 32px;\n",
              "      }\n",
              "\n",
              "      .colab-df-generate:hover {\n",
              "        background-color: #E2EBFA;\n",
              "        box-shadow: 0px 1px 2px rgba(60, 64, 67, 0.3), 0px 1px 3px 1px rgba(60, 64, 67, 0.15);\n",
              "        fill: #174EA6;\n",
              "      }\n",
              "\n",
              "      [theme=dark] .colab-df-generate {\n",
              "        background-color: #3B4455;\n",
              "        fill: #D2E3FC;\n",
              "      }\n",
              "\n",
              "      [theme=dark] .colab-df-generate:hover {\n",
              "        background-color: #434B5C;\n",
              "        box-shadow: 0px 1px 3px 1px rgba(0, 0, 0, 0.15);\n",
              "        filter: drop-shadow(0px 1px 2px rgba(0, 0, 0, 0.3));\n",
              "        fill: #FFFFFF;\n",
              "      }\n",
              "    </style>\n",
              "    <button class=\"colab-df-generate\" onclick=\"generateWithVariable('correlation_df')\"\n",
              "            title=\"Generate code using this dataframe.\"\n",
              "            style=\"display:none;\">\n",
              "\n",
              "  <svg xmlns=\"http://www.w3.org/2000/svg\" height=\"24px\"viewBox=\"0 0 24 24\"\n",
              "       width=\"24px\">\n",
              "    <path d=\"M7,19H8.4L18.45,9,17,7.55,7,17.6ZM5,21V16.75L18.45,3.32a2,2,0,0,1,2.83,0l1.4,1.43a1.91,1.91,0,0,1,.58,1.4,1.91,1.91,0,0,1-.58,1.4L9.25,21ZM18.45,9,17,7.55Zm-12,3A5.31,5.31,0,0,0,4.9,8.1,5.31,5.31,0,0,0,1,6.5,5.31,5.31,0,0,0,4.9,4.9,5.31,5.31,0,0,0,6.5,1,5.31,5.31,0,0,0,8.1,4.9,5.31,5.31,0,0,0,12,6.5,5.46,5.46,0,0,0,6.5,12Z\"/>\n",
              "  </svg>\n",
              "    </button>\n",
              "    <script>\n",
              "      (() => {\n",
              "      const buttonEl =\n",
              "        document.querySelector('#id_d523557d-c505-4708-8d77-2bcdc99bc3c8 button.colab-df-generate');\n",
              "      buttonEl.style.display =\n",
              "        google.colab.kernel.accessAllowed ? 'block' : 'none';\n",
              "\n",
              "      buttonEl.onclick = () => {\n",
              "        google.colab.notebook.generateWithVariable('correlation_df');\n",
              "      }\n",
              "      })();\n",
              "    </script>\n",
              "  </div>\n",
              "\n",
              "    </div>\n",
              "  </div>\n"
            ],
            "application/vnd.google.colaboratory.intrinsic+json": {
              "type": "dataframe",
              "variable_name": "correlation_df",
              "summary": "{\n  \"name\": \"correlation_df\",\n  \"rows\": 5,\n  \"fields\": [\n    {\n      \"column\": \"Annual_income\",\n      \"properties\": {\n        \"dtype\": \"date\",\n        \"min\": -0.0035081532279911693,\n        \"max\": 0.10660637401814145,\n        \"num_unique_values\": 4,\n        \"samples\": [\n          0.04668646728529888,\n          0.008670163679509488,\n          -0.0035081532279911693\n        ],\n        \"semantic_type\": \"\",\n        \"description\": \"\"\n      }\n    },\n    {\n      \"column\": \"Children\",\n      \"properties\": {\n        \"dtype\": \"date\",\n        \"min\": -0.21407658925324102,\n        \"max\": 0.8817548849066944,\n        \"num_unique_values\": 4,\n        \"samples\": [\n          -0.21407658925324102,\n          0.8817548849066944,\n          -0.0035081532279911693\n        ],\n        \"semantic_type\": \"\",\n        \"description\": \"\"\n      }\n    },\n    {\n      \"column\": \"Age\",\n      \"properties\": {\n        \"dtype\": \"date\",\n        \"min\": -0.21407658925324102,\n        \"max\": 0.1778492687820457,\n        \"num_unique_values\": 4,\n        \"samples\": [\n          -0.21407658925324102,\n          -0.15802307894809778,\n          0.04668646728529888\n        ],\n        \"semantic_type\": \"\",\n        \"description\": \"\"\n      }\n    },\n    {\n      \"column\": \"Employed_Years\",\n      \"properties\": {\n        \"dtype\": \"date\",\n        \"min\": 0.030786116685588925,\n        \"max\": 0.1778492687820457,\n        \"num_unique_values\": 4,\n        \"samples\": [\n          0.030786116685588925,\n          0.053565546194098666,\n          0.10660637401814145\n        ],\n        \"semantic_type\": \"\",\n        \"description\": \"\"\n      }\n    },\n    {\n      \"column\": \"Family_Members\",\n      \"properties\": {\n        \"dtype\": \"date\",\n        \"min\": -0.15802307894809778,\n        \"max\": 0.8817548849066944,\n        \"num_unique_values\": 4,\n        \"samples\": [\n          0.8817548849066944,\n          0.053565546194098666,\n          0.008670163679509488\n        ],\n        \"semantic_type\": \"\",\n        \"description\": \"\"\n      }\n    }\n  ]\n}"
            }
          },
          "metadata": {},
          "execution_count": 31
        }
      ],
      "source": [
        "# Defining numerical features for correlation\n",
        "numerical_features = ['Annual_income', 'Children', 'Age', 'Employed_Years', 'Family_Members']\n",
        "\n",
        "# 'correlation_df' DataFrame to store correlation coefficients\n",
        "correlation_df = pd.DataFrame(index=numerical_features, columns=numerical_features)\n",
        "\n",
        "# Performing correlation tests\n",
        "for i in range(len(numerical_features)):\n",
        "    for j in range(i + 1, len(numerical_features)):\n",
        "        var1 = numerical_features[i]\n",
        "        var2 = numerical_features[j]\n",
        "\n",
        "        # Filing the 'correlation_df' with correlation coefficients\n",
        "        correlation_coefficient, _ = pearsonr(Credit_data_cleaned[var1], Credit_data_cleaned[var2])\n",
        "        correlation_df.at[var1, var2] = correlation_coefficient\n",
        "        correlation_df.at[var2, var1] = correlation_coefficient\n",
        "\n",
        "# Displaying the results\n",
        "correlation_df"
      ]
    },
    {
      "cell_type": "markdown",
      "id": "f16c6d5f",
      "metadata": {
        "id": "f16c6d5f"
      },
      "source": [
        "# 5.1 Plotting correlation matrix Using HeatMap"
      ]
    },
    {
      "cell_type": "code",
      "execution_count": null,
      "id": "b75180b7",
      "metadata": {
        "colab": {
          "base_uri": "https://localhost:8080/",
          "height": 699
        },
        "id": "b75180b7",
        "outputId": "247f269f-92aa-4256-cec9-61365ef0f75b"
      },
      "outputs": [
        {
          "output_type": "display_data",
          "data": {
            "text/plain": [
              "<Figure size 1000x800 with 2 Axes>"
            ],
            "image/png": "[encoded data removed]"
          },
          "metadata": {}
        }
      ],
      "source": [
        "# Creating a subset DataFrame with only numerical variables\n",
        "numerical_data = Credit_data_cleaned[numerical_features]\n",
        "\n",
        "# Calculating correlation matrix\n",
        "correlation_matrix = numerical_data.corr()\n",
        "\n",
        "# Plotting correlation matrix\n",
        "plt.figure(figsize=(10, 8))\n",
        "sns.heatmap(correlation_matrix, annot=True, cmap='rocket', fmt=\".2f\", linewidths=.5)\n",
        "plt.title('Correlation Matrix')\n",
        "plt.show()"
      ]
    },
    {
      "cell_type": "markdown",
      "id": "b6cb2642",
      "metadata": {
        "id": "b6cb2642"
      },
      "source": [
        "# 6. Feature Engineering (Categorical features)"
      ]
    },
    {
      "cell_type": "code",
      "execution_count": null,
      "id": "a5b27c9c",
      "metadata": {
        "colab": {
          "base_uri": "https://localhost:8080/"
        },
        "id": "a5b27c9c",
        "outputId": "67498afb-40a7-4ec5-e67e-48890ea881bb"
      },
      "outputs": [
        {
          "output_type": "stream",
          "name": "stdout",
          "text": [
            "Unique values in Gender: ['F' 'M']\n",
            "\n",
            "Unique values in Car_Owner: ['Y' 'N']\n",
            "\n",
            "Unique values in Propert_Owner: ['N' 'Y']\n",
            "\n",
            "Unique values in Type_Income: ['Commercial associate' 'Working' 'Pensioner' 'State servant']\n",
            "\n",
            "Unique values in Education: ['Higher education' 'Secondary / secondary special' 'Lower secondary'\n",
            " 'Incomplete higher' 'Academic degree']\n",
            "\n",
            "Unique values in Marital_status: ['Married' 'Single / not married' 'Civil marriage' 'Separated' 'Widow']\n",
            "\n",
            "Unique values in Housing_type: ['House / apartment' 'Rented apartment' 'With parents' 'Co-op apartment'\n",
            " 'Municipal apartment' 'Office apartment']\n",
            "\n",
            "Unique values in Age_Category: ['Young', 'Adult', 'Senior']\n",
            "Categories (3, object): ['Young' < 'Adult' < 'Senior']\n",
            "\n",
            "Unique values in Label: ['Rejected' 'Approved']\n",
            "\n"
          ]
        }
      ],
      "source": [
        "\n",
        "# Defining categorical features for displaying unique values for each categorical column\n",
        "categorical_features = ['Gender', 'Car_Owner', 'Propert_Owner', 'Type_Income', 'Education', 'Marital_status', 'Housing_type','Age_Category', 'Label']\n",
        "categorical_data = Credit_data_cleaned[categorical_features]\n",
        "\n",
        "for column in categorical_data.columns:\n",
        "    unique_values = categorical_data[column].unique()\n",
        "    print(f\"Unique values in {column}:\", unique_values)\n",
        "    print()"
      ]
    },
    {
      "cell_type": "markdown",
      "id": "855ee079",
      "metadata": {
        "id": "855ee079"
      },
      "source": [
        "# 7. Z-Test\n"
      ]
    },
    {
      "cell_type": "code",
      "execution_count": null,
      "id": "48fa43d5",
      "metadata": {
        "colab": {
          "base_uri": "https://localhost:8080/"
        },
        "id": "48fa43d5",
        "outputId": "96cc0227-42fd-4623-cafb-43d346fedcfc"
      },
      "outputs": [
        {
          "output_type": "stream",
          "name": "stdout",
          "text": [
            "T-test for Annual_income - t-statistic: nan, p-value: nan\n",
            "Fail to reject the null hypothesis for Annual_income - There is no significant difference in means.\n",
            "\n",
            "T-test for Age - t-statistic: nan, p-value: nan\n",
            "Fail to reject the null hypothesis for Age - There is no significant difference in means.\n",
            "\n",
            "T-test for Employed_Years - t-statistic: nan, p-value: nan\n",
            "Fail to reject the null hypothesis for Employed_Years - There is no significant difference in means.\n",
            "\n"
          ]
        }
      ],
      "source": [
        "from scipy.stats import ttest_ind\n",
        "from statsmodels.stats.proportion import proportions_ztest\n",
        "\n",
        "# Define categorical and numerical variables\n",
        "categorical_variables = ['Gender', 'Car_Owner', 'Propert_Owner', 'Type_Income', 'Marital_status', 'Housing_type', 'Age_Category']\n",
        "numerical_variables = ['Annual_income', 'Age', 'Employed_Years']\n",
        "\n",
        "# Set the significance level\n",
        "significance_level = 0.05\n",
        "\n",
        "# Perform t-tests for numerical variables\n",
        "for column in numerical_variables:\n",
        "    approved = Credit_data_cleaned[Credit_data_cleaned['Label'] == 0][column]\n",
        "    rejected = Credit_data_cleaned[Credit_data_cleaned['Label'] == 1][column]\n",
        "\n",
        "    t_stat, p_value = ttest_ind(approved, rejected, equal_var=False)\n",
        "\n",
        "    print(f\"T-test for {column} - t-statistic: {t_stat:.2f}, p-value: {p_value:.2f}\")\n",
        "\n",
        "    if p_value < significance_level:\n",
        "        print(f\"Reject the null hypothesis for {column} - There is a significant difference in means.\")\n",
        "        print()\n",
        "    else:\n",
        "        print(f\"Fail to reject the null hypothesis for {column} - There is no significant difference in means.\")\n",
        "        print()\n",
        "\n"
      ]
    },
    {
      "cell_type": "markdown",
      "id": "39775386",
      "metadata": {
        "id": "39775386"
      },
      "source": [
        "# 8. Feature Selection\n"
      ]
    },
    {
      "cell_type": "code",
      "execution_count": null,
      "id": "0a10b7e8",
      "metadata": {
        "id": "0a10b7e8"
      },
      "outputs": [],
      "source": [
        "# Defining categorical features for feature selection and target variable\n",
        "features = ['Gender', 'Car_Owner', 'Propert_Owner', 'Annual_income', 'Type_Income','Education',\n",
        "            'Marital_status', 'Housing_type', 'Age','Employed_Years', 'Age_Category']\n",
        "target = 'Label'\n",
        "\n",
        "X = Credit_data_cleaned[features]\n",
        "y = Credit_data_cleaned[target]\n",
        "\n",
        "# Spliting the data into training and testing sets\n",
        "X_train, X_test, y_train, y_test = train_test_split(X, y, test_size=0.2, random_state=42)"
      ]
    },
    {
      "cell_type": "code",
      "execution_count": null,
      "id": "d381c923",
      "metadata": {
        "id": "d381c923"
      },
      "outputs": [],
      "source": [
        "\n",
        "# model = RandomForestClassifier(n_estimators=100) # Initializing Random Forest Classifier\n",
        "# rfe = RFE(model, n_features_to_select=1)  # Recursive Feature Elimination with Random Forest\n",
        "# fit = rfe.fit(X_train, y_train)  # Fitting RFE to the training data\n",
        "\n",
        "# # Displaying RFE ranking of features and sorting it by rank\n",
        "# for feature, rank in sorted(zip(features, fit.ranking_), key=lambda x: x[1]):\n",
        "#     print(f\"{feature}: {rank}\")"
      ]
    },
    {
      "cell_type": "code",
      "execution_count": null,
      "id": "245f9491",
      "metadata": {
        "id": "245f9491"
      },
      "outputs": [],
      "source": [
        "# model_rf = RandomForestClassifier(n_estimators=100) # Initializing Random Forest Classifier\n",
        "# model_rf.fit(X_train, y_train) # Fitting RFE to the training data\n",
        "\n",
        "# # Displaying the feature importance from the trained Random Forest model\n",
        "# for feature, importance in zip(features, model_rf.feature_importances_):\n",
        "#     print(f\"{feature}: {importance:.2f}\")"
      ]
    },
    {
      "cell_type": "code",
      "execution_count": null,
      "id": "67c531f5",
      "metadata": {
        "id": "67c531f5"
      },
      "outputs": [],
      "source": [
        "columns = ['Employed_Years', 'Annual_income', 'Age', 'Type_Income', 'Education', 'Marital_status']\n",
        "Credit_data_cleaned = Credit_data_cleaned"
      ]
    },
    {
      "cell_type": "code",
      "execution_count": null,
      "id": "566d86f7",
      "metadata": {
        "id": "566d86f7"
      },
      "outputs": [],
      "source": [
        "Credit_data_cleaned.to_csv('Credit_data_cleaned_ML.csv', index=False)\n"
      ]
    }
  ],
  "metadata": {
    "kernelspec": {
      "display_name": "Python 3 (ipykernel)",
      "language": "python",
      "name": "python3"
    },
    "language_info": {
      "codemirror_mode": {
        "name": "ipython",
        "version": 3
      },
      "file_extension": ".py",
      "mimetype": "text/x-python",
      "name": "python",
      "nbconvert_exporter": "python",
      "pygments_lexer": "ipython3",
      "version": "3.9.12"
    },
    "colab": {
      "provenance": []
    }
  },
  "nbformat": 4,
  "nbformat_minor": 5
}